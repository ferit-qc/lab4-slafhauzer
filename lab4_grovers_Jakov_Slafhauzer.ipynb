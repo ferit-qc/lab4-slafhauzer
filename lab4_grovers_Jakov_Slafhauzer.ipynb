{
  "cells": [
    {
      "cell_type": "markdown",
      "metadata": {
        "id": "rTZ9LqVCGx1G"
      },
      "source": [
        "<a href=\"https://colab.research.google.com/github/ferit-qc/lab4/blob/main/lab4_grovers.ipynb\" target=\"_parent\"><img src=\"https://colab.research.google.com/assets/colab-badge.svg\" alt=\"Open In Colab\"/></a>"
      ]
    },
    {
      "cell_type": "markdown",
      "metadata": {
        "id": "eOYodLMkPLC-"
      },
      "source": [
        "# Lab4. - Implementation of Grover's Search Algorithm and Walk Algorithms"
      ]
    },
    {
      "cell_type": "markdown",
      "metadata": {
        "id": "OQ_DTLdHOw6X"
      },
      "source": [
        "## Useful learning resources and links:\n",
        "* [Quantum computing documentation](https://docs.quantum.ibm.com/)\n",
        "* [Qiskit documentation](https://www.ibm.com/quantum/qiskit)\n",
        "* [IBM Quantum Composer](https://quantum.ibm.com/composer)\n"
      ]
    },
    {
      "cell_type": "markdown",
      "metadata": {
        "id": "JTbuRbuNPJuO"
      },
      "source": [
        "Lets first install everything we need for this excersise:"
      ]
    },
    {
      "cell_type": "code",
      "execution_count": 1,
      "metadata": {
        "colab": {
          "base_uri": "https://localhost:8080/"
        },
        "collapsed": true,
        "id": "L4mXCXL7EMfm",
        "outputId": "9069da36-4dd3-4c44-9849-903496c6bf18"
      },
      "outputs": [
        {
          "name": "stdout",
          "output_type": "stream",
          "text": [
            "^C\n"
          ]
        },
        {
          "name": "stdout",
          "output_type": "stream",
          "text": [
            "Defaulting to user installation because normal site-packages is not writeable\n",
            "Collecting qiskit\n",
            "  Downloading qiskit-2.0.1-cp39-abi3-win_amd64.whl.metadata (12 kB)\n",
            "Collecting qiskit-ibm-runtime\n",
            "  Downloading qiskit_ibm_runtime-0.39.0-py3-none-any.whl.metadata (21 kB)\n",
            "Collecting rustworkx>=0.15.0 (from qiskit)\n",
            "  Downloading rustworkx-0.16.0-cp39-abi3-win_amd64.whl.metadata (10 kB)\n",
            "Requirement already satisfied: numpy<3,>=1.17 in c:\\users\\jakovslafhauzer\\appdata\\roaming\\python\\python310\\site-packages (from qiskit) (1.26.4)\n",
            "Requirement already satisfied: scipy>=1.5 in c:\\users\\jakovslafhauzer\\appdata\\roaming\\python\\python310\\site-packages (from qiskit) (1.14.1)\n",
            "Collecting sympy>=1.3 (from qiskit)\n",
            "  Downloading sympy-1.14.0-py3-none-any.whl.metadata (12 kB)\n",
            "Collecting dill>=0.3 (from qiskit)\n",
            "  Downloading dill-0.4.0-py3-none-any.whl.metadata (10 kB)\n",
            "Requirement already satisfied: python-dateutil>=2.8.0 in c:\\users\\jakovslafhauzer\\appdata\\roaming\\python\\python310\\site-packages (from qiskit) (2.9.0.post0)\n",
            "Collecting stevedore>=3.0.0 (from qiskit)\n",
            "  Downloading stevedore-5.4.1-py3-none-any.whl.metadata (2.3 kB)\n",
            "Requirement already satisfied: typing-extensions in c:\\users\\jakovslafhauzer\\appdata\\roaming\\python\\python310\\site-packages (from qiskit) (4.12.2)\n",
            "Collecting symengine<0.14,>=0.11 (from qiskit)\n",
            "  Downloading symengine-0.13.0-cp310-cp310-win_amd64.whl.metadata (1.2 kB)\n",
            "Requirement already satisfied: requests>=2.19 in c:\\users\\jakovslafhauzer\\appdata\\roaming\\python\\python310\\site-packages (from qiskit-ibm-runtime) (2.32.3)\n",
            "Collecting requests-ntlm>=1.1.0 (from qiskit-ibm-runtime)\n",
            "  Downloading requests_ntlm-1.3.0-py3-none-any.whl.metadata (2.4 kB)\n",
            "Requirement already satisfied: urllib3>=1.21.1 in c:\\users\\jakovslafhauzer\\appdata\\roaming\\python\\python310\\site-packages (from qiskit-ibm-runtime) (2.2.2)\n",
            "Collecting ibm-platform-services>=0.22.6 (from qiskit-ibm-runtime)\n",
            "  Downloading ibm_platform_services-0.66.0-py3-none-any.whl.metadata (9.0 kB)\n",
            "Collecting pydantic>=2.5.0 (from qiskit-ibm-runtime)\n",
            "  Downloading pydantic-2.11.5-py3-none-any.whl.metadata (67 kB)\n",
            "Requirement already satisfied: packaging in c:\\users\\jakovslafhauzer\\appdata\\roaming\\python\\python310\\site-packages (from qiskit-ibm-runtime) (24.1)\n",
            "Collecting ibm_cloud_sdk_core<4.0.0,>=3.22.1 (from ibm-platform-services>=0.22.6->qiskit-ibm-runtime)\n",
            "  Downloading ibm_cloud_sdk_core-3.23.0-py3-none-any.whl.metadata (8.7 kB)\n",
            "Collecting annotated-types>=0.6.0 (from pydantic>=2.5.0->qiskit-ibm-runtime)\n",
            "  Downloading annotated_types-0.7.0-py3-none-any.whl.metadata (15 kB)\n",
            "Collecting pydantic-core==2.33.2 (from pydantic>=2.5.0->qiskit-ibm-runtime)\n",
            "  Downloading pydantic_core-2.33.2-cp310-cp310-win_amd64.whl.metadata (6.9 kB)\n",
            "Collecting typing-inspection>=0.4.0 (from pydantic>=2.5.0->qiskit-ibm-runtime)\n",
            "  Downloading typing_inspection-0.4.1-py3-none-any.whl.metadata (2.6 kB)\n",
            "Requirement already satisfied: six>=1.5 in c:\\users\\jakovslafhauzer\\appdata\\roaming\\python\\python310\\site-packages (from python-dateutil>=2.8.0->qiskit) (1.16.0)\n",
            "Requirement already satisfied: charset-normalizer<4,>=2 in c:\\users\\jakovslafhauzer\\appdata\\roaming\\python\\python310\\site-packages (from requests>=2.19->qiskit-ibm-runtime) (3.3.2)\n",
            "Requirement already satisfied: idna<4,>=2.5 in c:\\users\\jakovslafhauzer\\appdata\\roaming\\python\\python310\\site-packages (from requests>=2.19->qiskit-ibm-runtime) (3.8)\n",
            "Requirement already satisfied: certifi>=2017.4.17 in c:\\users\\jakovslafhauzer\\appdata\\roaming\\python\\python310\\site-packages (from requests>=2.19->qiskit-ibm-runtime) (2024.7.4)\n",
            "Collecting cryptography>=1.3 (from requests-ntlm>=1.1.0->qiskit-ibm-runtime)\n",
            "  Downloading cryptography-45.0.2-cp37-abi3-win_amd64.whl.metadata (5.7 kB)\n",
            "Collecting pyspnego>=0.4.0 (from requests-ntlm>=1.1.0->qiskit-ibm-runtime)\n",
            "  Downloading pyspnego-0.11.2-py3-none-any.whl.metadata (5.4 kB)\n",
            "Collecting pbr>=2.0.0 (from stevedore>=3.0.0->qiskit)\n",
            "  Downloading pbr-6.1.1-py2.py3-none-any.whl.metadata (3.4 kB)\n",
            "Collecting mpmath<1.4,>=1.1.0 (from sympy>=1.3->qiskit)\n",
            "  Downloading mpmath-1.3.0-py3-none-any.whl.metadata (8.6 kB)\n",
            "Collecting cffi>=1.14 (from cryptography>=1.3->requests-ntlm>=1.1.0->qiskit-ibm-runtime)\n",
            "  Downloading cffi-1.17.1-cp310-cp310-win_amd64.whl.metadata (1.6 kB)\n",
            "Collecting PyJWT<3.0.0,>=2.8.0 (from ibm_cloud_sdk_core<4.0.0,>=3.22.1->ibm-platform-services>=0.22.6->qiskit-ibm-runtime)\n",
            "  Downloading PyJWT-2.10.1-py3-none-any.whl.metadata (4.0 kB)\n",
            "Requirement already satisfied: setuptools in c:\\program files\\python310\\lib\\site-packages (from pbr>=2.0.0->stevedore>=3.0.0->qiskit) (58.1.0)\n",
            "Collecting sspilib>=0.1.0 (from pyspnego>=0.4.0->requests-ntlm>=1.1.0->qiskit-ibm-runtime)\n",
            "  Downloading sspilib-0.3.1-cp310-cp310-win_amd64.whl.metadata (6.2 kB)\n",
            "Collecting pycparser (from cffi>=1.14->cryptography>=1.3->requests-ntlm>=1.1.0->qiskit-ibm-runtime)\n",
            "  Downloading pycparser-2.22-py3-none-any.whl.metadata (943 bytes)\n",
            "Downloading qiskit-2.0.1-cp39-abi3-win_amd64.whl (6.2 MB)\n",
            "   ---------------------------------------- 0.0/6.2 MB ? eta -:--:--\n",
            "   - -------------------------------------- 0.3/6.2 MB ? eta -:--:--\n",
            "   ------ --------------------------------- 1.0/6.2 MB 3.9 MB/s eta 0:00:02\n",
            "   ----------- ---------------------------- 1.8/6.2 MB 3.6 MB/s eta 0:00:02\n",
            "   ------------------ --------------------- 2.9/6.2 MB 4.1 MB/s eta 0:00:01\n",
            "   -------------------------- ------------- 4.2/6.2 MB 4.6 MB/s eta 0:00:01\n",
            "   ------------------------------- -------- 5.0/6.2 MB 4.5 MB/s eta 0:00:01\n",
            "   ----------------------------------- ---- 5.5/6.2 MB 4.2 MB/s eta 0:00:01\n",
            "   -------------------------------------- - 6.0/6.2 MB 3.9 MB/s eta 0:00:01\n",
            "   ---------------------------------------- 6.2/6.2 MB 3.9 MB/s eta 0:00:00\n",
            "Downloading qiskit_ibm_runtime-0.39.0-py3-none-any.whl (3.2 MB)\n",
            "   ---------------------------------------- 0.0/3.2 MB ? eta -:--:--\n",
            "   ------------- -------------------------- 1.0/3.2 MB 6.3 MB/s eta 0:00:01\n",
            "   ----------------------------- ---------- 2.4/3.2 MB 6.4 MB/s eta 0:00:01\n",
            "   ---------------------------------------- 3.2/3.2 MB 6.1 MB/s eta 0:00:00\n",
            "Downloading dill-0.4.0-py3-none-any.whl (119 kB)\n",
            "Downloading ibm_platform_services-0.66.0-py3-none-any.whl (363 kB)\n",
            "Downloading pydantic-2.11.5-py3-none-any.whl (444 kB)\n",
            "Downloading pydantic_core-2.33.2-cp310-cp310-win_amd64.whl (2.0 MB)\n",
            "   ---------------------------------------- 0.0/2.0 MB ? eta -:--:--\n",
            "   --------------------- ------------------ 1.0/2.0 MB 7.1 MB/s eta 0:00:01\n",
            "   ---------------------------------------- 2.0/2.0 MB 6.8 MB/s eta 0:00:00\n",
            "Downloading requests_ntlm-1.3.0-py3-none-any.whl (6.6 kB)\n",
            "Downloading rustworkx-0.16.0-cp39-abi3-win_amd64.whl (2.0 MB)\n",
            "   ---------------------------------------- 0.0/2.0 MB ? eta -:--:--\n",
            "   ---------------- ----------------------- 0.8/2.0 MB 6.7 MB/s eta 0:00:01\n",
            "   ------------------------------------- -- 1.8/2.0 MB 5.6 MB/s eta 0:00:01\n",
            "   ---------------------------------------- 2.0/2.0 MB 5.4 MB/s eta 0:00:00\n",
            "Downloading stevedore-5.4.1-py3-none-any.whl (49 kB)\n",
            "Downloading symengine-0.13.0-cp310-cp310-win_amd64.whl (17.8 MB)\n",
            "   ---------------------------------------- 0.0/17.8 MB ? eta -:--:--\n",
            "   - -------------------------------------- 0.8/17.8 MB 3.7 MB/s eta 0:00:05\n",
            "   ---- ----------------------------------- 1.8/17.8 MB 4.6 MB/s eta 0:00:04\n",
            "   ------- -------------------------------- 3.1/17.8 MB 5.0 MB/s eta 0:00:03\n",
            "   --------- ------------------------------ 4.2/17.8 MB 5.1 MB/s eta 0:00:03\n",
            "   ------------ --------------------------- 5.5/17.8 MB 5.3 MB/s eta 0:00:03\n",
            "   -------------- ------------------------- 6.6/17.8 MB 5.3 MB/s eta 0:00:03\n",
            "   ----------------- ---------------------- 7.6/17.8 MB 5.2 MB/s eta 0:00:02\n",
            "   ------------------- -------------------- 8.9/17.8 MB 5.4 MB/s eta 0:00:02\n",
            "   ----------------------- ---------------- 10.5/17.8 MB 5.6 MB/s eta 0:00:02\n",
            "   -------------------------- ------------- 11.8/17.8 MB 5.8 MB/s eta 0:00:02\n",
            "   ----------------------------- ---------- 13.1/17.8 MB 5.8 MB/s eta 0:00:01\n",
            "   -------------------------------- ------- 14.7/17.8 MB 5.9 MB/s eta 0:00:01\n",
            "   ----------------------------------- ---- 16.0/17.8 MB 5.9 MB/s eta 0:00:01\n",
            "   -------------------------------------- - 17.3/17.8 MB 6.0 MB/s eta 0:00:01\n",
            "   ---------------------------------------  17.8/17.8 MB 6.0 MB/s eta 0:00:01\n",
            "   ---------------------------------------- 17.8/17.8 MB 5.6 MB/s eta 0:00:00\n",
            "Downloading sympy-1.14.0-py3-none-any.whl (6.3 MB)\n",
            "   ---------------------------------------- 0.0/6.3 MB ? eta -:--:--\n",
            "   -------- ------------------------------- 1.3/6.3 MB 6.7 MB/s eta 0:00:01\n",
            "   ---------------- ----------------------- 2.6/6.3 MB 6.9 MB/s eta 0:00:01\n",
            "   ------------------------ --------------- 3.9/6.3 MB 6.5 MB/s eta 0:00:01\n",
            "   --------------------------------- ------ 5.2/6.3 MB 6.5 MB/s eta 0:00:01\n",
            "   ---------------------------------------- 6.3/6.3 MB 6.4 MB/s eta 0:00:00\n",
            "Downloading annotated_types-0.7.0-py3-none-any.whl (13 kB)\n",
            "Downloading cryptography-45.0.2-cp37-abi3-win_amd64.whl (3.4 MB)\n",
            "   ---------------------------------------- 0.0/3.4 MB ? eta -:--:--\n",
            "   ------------ --------------------------- 1.0/3.4 MB 7.1 MB/s eta 0:00:01\n",
            "   --------------------------- ------------ 2.4/3.4 MB 6.7 MB/s eta 0:00:01\n",
            "   ------------------------------------- -- 3.1/3.4 MB 5.9 MB/s eta 0:00:01\n",
            "   ---------------------------------------- 3.4/3.4 MB 4.8 MB/s eta 0:00:00\n",
            "Downloading ibm_cloud_sdk_core-3.23.0-py3-none-any.whl (69 kB)\n",
            "Downloading mpmath-1.3.0-py3-none-any.whl (536 kB)\n",
            "   ---------------------------------------- 0.0/536.2 kB ? eta -:--:--\n",
            "   ---------------------------------------- 536.2/536.2 kB 5.8 MB/s eta 0:00:00\n",
            "Downloading pbr-6.1.1-py2.py3-none-any.whl (108 kB)\n",
            "Downloading pyspnego-0.11.2-py3-none-any.whl (130 kB)\n",
            "Downloading typing_inspection-0.4.1-py3-none-any.whl (14 kB)\n",
            "Downloading cffi-1.17.1-cp310-cp310-win_amd64.whl (181 kB)\n",
            "Downloading PyJWT-2.10.1-py3-none-any.whl (22 kB)\n",
            "Downloading sspilib-0.3.1-cp310-cp310-win_amd64.whl (622 kB)\n",
            "   ---------------------------------------- 0.0/622.4 kB ? eta -:--:--\n",
            "   --------------------------------- ------ 524.3/622.4 kB 4.2 MB/s eta 0:00:01\n",
            "   ---------------------------------------- 622.4/622.4 kB 1.8 MB/s eta 0:00:00\n",
            "Downloading pycparser-2.22-py3-none-any.whl (117 kB)\n",
            "Installing collected packages: mpmath, typing-inspection, sympy, symengine, sspilib, rustworkx, PyJWT, pydantic-core, pycparser, pbr, dill, annotated-types, stevedore, pydantic, ibm_cloud_sdk_core, cffi, qiskit, ibm-platform-services, cryptography, pyspnego, requests-ntlm, qiskit-ibm-runtime\n",
            "Successfully installed PyJWT-2.10.1 annotated-types-0.7.0 cffi-1.17.1 cryptography-45.0.2 dill-0.4.0 ibm-platform-services-0.66.0 ibm_cloud_sdk_core-3.23.0 mpmath-1.3.0 pbr-6.1.1 pycparser-2.22 pydantic-2.11.5 pydantic-core-2.33.2 pyspnego-0.11.2 qiskit-2.0.1 qiskit-ibm-runtime-0.39.0 requests-ntlm-1.3.0 rustworkx-0.16.0 sspilib-0.3.1 stevedore-5.4.1 symengine-0.13.0 sympy-1.14.0 typing-inspection-0.4.1\n"
          ]
        },
        {
          "name": "stderr",
          "output_type": "stream",
          "text": [
            "\n",
            "[notice] A new release of pip is available: 24.2 -> 25.1.1\n",
            "[notice] To update, run: python.exe -m pip install --upgrade pip\n"
          ]
        }
      ],
      "source": [
        "!pip install qiskit qiskit-ibm-runtime"
      ]
    },
    {
      "cell_type": "code",
      "execution_count": null,
      "metadata": {
        "colab": {
          "base_uri": "https://localhost:8080/"
        },
        "collapsed": true,
        "id": "VrIXIspGuF81",
        "outputId": "22865ad7-51e8-407f-f1f0-50061164d2a4"
      },
      "outputs": [],
      "source": [
        "!pip install qiskit qiskit-aer"
      ]
    },
    {
      "cell_type": "code",
      "execution_count": null,
      "metadata": {
        "colab": {
          "base_uri": "https://localhost:8080/"
        },
        "collapsed": true,
        "id": "d6ji35-4uKU9",
        "outputId": "c54d8f06-344b-47bf-c7af-aa545bec14c4"
      },
      "outputs": [],
      "source": [
        "!pip install matplotlib"
      ]
    },
    {
      "cell_type": "code",
      "execution_count": null,
      "metadata": {
        "colab": {
          "base_uri": "https://localhost:8080/"
        },
        "collapsed": true,
        "id": "gNc4_vUNuOAy",
        "outputId": "22169cfc-04b3-4367-a045-09e351d2fe82"
      },
      "outputs": [],
      "source": [
        "!pip install pylatexenc"
      ]
    },
    {
      "cell_type": "code",
      "execution_count": null,
      "metadata": {
        "id": "q7uOg53hEuJM"
      },
      "outputs": [],
      "source": [
        "from qiskit import *   # Imports core Qiskit classes (QuantumCircuit, transpile, etc.)\n",
        "from qiskit_aer.aerprovider import AerSimulator # Provides access to the local quantum circuit simulator\n",
        "from qiskit.visualization import plot_histogram # Enables visualization of measurement results\n",
        "import matplotlib.pyplot as plt # Standard Python plotting library\n",
        "from IPython.display import display # Allows rich display of plots in Jupyter notebooks\n",
        "from IPython.display import Image\n",
        "from IPython.core.display import HTML\n",
        "import math\n",
        "from qiskit.visualization import plot_histogram, plot_bloch_multivector, array_to_latex\n",
        "from qiskit.result import marginal_counts\n",
        "from qiskit.quantum_info import random_statevector\n",
        "import numpy as np"
      ]
    },
    {
      "cell_type": "markdown",
      "metadata": {
        "id": "PBSvEqhZPlTT"
      },
      "source": [
        "## 1. Introduction <a id='introduction'></a>\n",
        "\n",
        "You have likely heard that one of the many advantages a quantum computer has over a classical computer is its superior speed searching databases. Grover's algorithm demonstrates this capability. This algorithm can speed up an unstructured search problem quadratically, but its uses extend beyond that; it can serve as a general trick or subroutine to obtain quadratic run time improvements for a variety of other algorithms. This is called the amplitude amplification trick.    \n",
        "\n",
        "\n",
        "Suppose you are given a large list of $N$ items. Among these items there is one item with a unique property that we wish to locate; we will call this one the winner $w$. Think of each item in the list as a box of a particular color. Say all items in the list are gray except the winner $w$, which is purple.\n",
        "\n",
        "\n",
        "![screenshot_1743358170516.png](<https://media-hosting.imagekit.io/5db6f7848a3b4ab6/screenshot_1743358170516.png?Expires=1837966170&Key-Pair-Id=K2ZIVPTIP2VGHC&Signature=s-zGFi8x2agZWrvbewcled2heEN9WPGCNKirvIt8JpJ9CL1Ksu6LJOkHhcLdvWHsm2kZj2-89HLO6xDVkpnBl3ahgFk3Enicp9j7vBGZSg51EtOCafiEM6ltwPy5~3HuRW8WVzyw4faC2XgopToBq-IgxOsq~uPMHjxPj3pjOYyJfx7ZsDFwbR9suG-ntj3Q9FvREreBSXGIuSBlZc7aK661A958dNyWQkxbU567F5e85YcAKkkbiKmLiYYILdTGbbtN2oYVLhrZrGUxJLLqEanW~tR9VnbdcVS24PNPbfchHns~4kfs7AmWAVaD3vZ0lF1fNMJ8lo9IcXlXmbM~Jg__>)\n",
        "\n",
        "To find the purple box -- the *marked item* -- using classical computation, one would have to check on average $N/2$ of these boxes, and in the worst case, all $N$ of them. On a quantum computer, however, we can find the marked item in roughly $\\sqrt{N}$ steps with Grover's amplitude amplification trick. A quadratic speedup is indeed a substantial time-saver for finding marked items in long lists. Additionally, the algorithm does not use the list's internal structure, which makes it *generic;* this is why it immediately provides a quadratic quantum speed-up for many classical problems.\n"
      ]
    },
    {
      "cell_type": "markdown",
      "metadata": {
        "formulas": {
          "vspace": {
            "meaning": "A complex vector space is a vector space whose field of scalars is the complex numbers.",
            "say": "Euclidean complex n-space",
            "type": "Mathematical symbol"
          }
        },
        "id": "oUuNzySePlTT"
      },
      "source": [
        "### 1.1 Algorithm Overview\n",
        "\n",
        "\n",
        "Grover's algorithm consists of three main algorithms steps: state preparation, the oracle, and the diffusion operator. The state preparation is where we create the search space, which is all possible cases the answer could take. In the list example we mentioned above, the search space would be all the items of that list.    \n",
        "The oracle is what marks the correct answer, or answers we are looking for, and the diffusion operator magnifies these answers so they can stand out and be measured at the end of the algorithm.\n",
        "\n",
        "![screenshot_1743358193016.png](<https://media-hosting.imagekit.io/fcc7df39b31c4409/screenshot_1743358193016.png?Expires=1837966193&Key-Pair-Id=K2ZIVPTIP2VGHC&Signature=Ru7vcfn83~cdTgTgGHQFW6n3TBdv86PIvHKoJ3RpuuG3ZJ3ptuSHB-j40zyZ4qbu6WfYMnd88s~NoXRf0DuOeq6KH5WFe7P59oZiF7OC178yaTSIA99gTRZUcRl9mhSKNoy5dnIOCFsef83UuWtkJe1TkSH84BPAaJ1rvmAiWqfOXYCE~lA258zkyFWQtWAtc-LoYfOVzQYazudygUfiv-~oqLJ1BPpU9WmzcPra0uedogRoTA1BJr8Lh6BjJO1ffM-DbV21sCMjgCuUAOR9fpNFnT~3J7DFZz43Sv4b1CFshAm2EX7bxJojCZ8PyXWZeORub1TeZd72z962YRk3zQ__>)   \n",
        "\n",
        "\n",
        "So how does the algorithm work? Before looking at the list of items, we have no idea where the marked item is. Therefore, any guess of its location is as good as any other, which can be expressed in terms of a\n",
        "uniform superposition: $|s \\rangle = \\frac{1}{\\sqrt{N}} \\sum_{x = 0}^{N -1} | x\n",
        "\\rangle.$\n",
        "\n",
        "If at this point we were to measure in the standard basis $ \\{ | x \\rangle \\} $, this superposition would collapse, according to the fifth quantum law, to any one of the basis states with the same probability of $\\frac{1}{N} = \\frac{1}{2^n}$. Our chances of guessing the right value $w$ is therefore $1$ in $2^n$, as could be expected. Hence, on average we would need to try about $N/2 = 2^{n-1}$ times to guess the correct item.\n",
        "\n",
        "Enter the procedure called amplitude amplification, which is how a quantum computer significantly enhances this probability. This procedure stretches out (amplifies) the amplitude of the marked item, which shrinks the other items' amplitude, so that measuring the final state will return the right item with near-certainty.\n",
        "\n",
        "This algorithm has a nice geometrical interpretation in terms of two reflections, which generate a rotation in a two-dimensional plane. The only two special states we need to consider are the winner $| w \\rangle$ and the uniform superposition $| s \\rangle$. These two vectors span a two-dimensional plane in the vector space $\\cssId{vspace}{\\mathbb{C}^N}$. They are not quite perpendicular because $| w \\rangle$ occurs in the superposition with amplitude $N^{-1/2}$ as well.\n",
        "We can, however, introduce an additional state $|s'\\rangle$ that is in the span of these two vectors, which is perpendicular to $| w \\rangle$ and is obtained from $|s \\rangle$ by removing $| w \\rangle$ and\n",
        "rescaling.\n",
        "\n",
        "**Step 1**: The amplitude amplification procedure starts out in the uniform superposition $| s \\rangle$, which is easily constructed from $| s \\rangle = H^{\\otimes n} | 0 \\rangle^n$ or using another symmetric entangled states.\n",
        "\n",
        "![screenshot_1743358252873.png](<https://media-hosting.imagekit.io/ca5fd105a8394453/screenshot_1743358252873.png?Expires=1837966253&Key-Pair-Id=K2ZIVPTIP2VGHC&Signature=cROI~qoXkWxKfi8WDvsnpDshJe5OvnFbACsrA-a5OLliIvGqROAXa9vsxehPlghhvv7KDnKqcFGtopuNRJYGhumCLNmMwcVuT6wNdBoMfqMuRgcXj-S3iA4htbkGV5CeU~DhvjHjfBsHVRJntf6Tva5kdn6wPXHuZVrU3KKjbZcXzP3z3Q3nl8p-1YMD~zuJvdYNeFnpskDTfZw1kl4cHm0UtZyTHyHDpl0kYX6GfhIuUeHTArEEo3-cpdcLhDh2rfcWfd133r10ejo4RlvlgbFNFkw4TKLSJo9mxrG8Ea51bxy-rt2Go0gv-Z8YJE74butCoFhNFQpxmxnlFVpyLw__>)\n",
        "\n",
        "The left graphic corresponds to the two-dimensional plane spanned by perpendicular vectors $|w\\rangle$ and $|s'\\rangle$ which allows to express the initial state as $|s\\rangle = \\sin \\theta | w \\rangle + \\cos \\theta | s' \\rangle,$ where $\\theta = \\arcsin \\langle s | w \\rangle = \\arcsin \\frac{1}{\\sqrt{N}}$. The right graphic is a bar graph of the amplitudes of the state $| s \\rangle$.\n",
        "\n",
        "**Step 2**: We apply the oracle reflection $U_f$ to the state $|s\\rangle$.\n",
        "\n",
        "![screenshot_1743358273837.png](<https://media-hosting.imagekit.io/c3ef6edf47b14f64/screenshot_1743358273837.png?Expires=1837966274&Key-Pair-Id=K2ZIVPTIP2VGHC&Signature=hZuJtOk~U7YgEYlKv57w-LIDyZoCU5EJX4KRnf0PO31Lv21qcyHkRakWYpuk4jGFeZy4QalnKeyi2m6pGLWTxReVzTpPbdk4NqIJfGhaXOIfzQEOg393oWqGSGzveIFRJkVUAGwy4-Wa2EhlnKfEPohwiBqyetIzTjrX9b9IR8EU5lPW14XASgh-0cd5iatf0Sk5CH4j3OOf0afJU4YOSyj1UN3h1b23YASIbCiYdxa6RbHSf2sKARNGPuagTGRrnufqQLrRashNbQuGx7oBXtoMouspf~dwAJbZTWdXEYVnL4cyQuJCmMI7-TPFZNSHYpf8AF0dxOdwxwWzdvu1jA__>)\n",
        "\n",
        "Geometrically this corresponds to a reflection of the state $|s\\rangle$ about $|s'\\rangle$. This transformation means that the amplitude in front of the $|w\\rangle$ state becomes negative, which in turn means that the average amplitude (indicated by a dashed line) has been lowered.\n",
        "\n",
        "**Step 3**: We now apply an additional reflection ($U_s$) about the state $|s\\rangle$: $U_s = 2|s\\rangle\\langle s| - \\mathbb{1}$. This transformation maps the state to $U_s U_f| s \\rangle$ and completes the transformation.\n",
        "\n",
        "![screenshot_1743358288944.png](<https://media-hosting.imagekit.io/4b469fd7b4cc412c/screenshot_1743358288944.png?Expires=1837966289&Key-Pair-Id=K2ZIVPTIP2VGHC&Signature=MedNG4wLUcsclTwDcS3q7aQ7bBoKKuP~K0mmyEirk5opSd7MUxfJ6nLld1JsgSVNJyfbMGh0Zy6jykPsRTCvW1LZCHd0-tGG3yfvrypC7A6VwySsnNqQeMneJXBI5JlN9~jBUFg8gBVb-t69pUDG0eibR0MolTS5t7l8XZU7wC07Sk4YyrUruTHhIoDjbUiYLMKjTg-xoM3n~6qczEV4gLBsQSHWe8HdjUtSJ7x6ayuv5YZF3xHBYBm6bft62pbYjAL9EAqJ4yt4Zuw~l5-fwYtyXfFZI4zePioiQyrCHdAo9O5tORKjiKYVSs5ha-5CNC2gHtgp3e0BIkezLewa7g__>)\n",
        "\n",
        "Two reflections always correspond to a rotation. The transformation $U_s U_f$ rotates the initial state $|s\\rangle$ closer towards the winner $|w\\rangle$. The action of the reflection $U_s$ in the amplitude bar diagram can be understood as a reflection about the average amplitude. Since the average amplitude has been lowered by the first reflection, this transformation boosts the negative amplitude of $|w\\rangle$ to roughly three times its original value, while it decreases the other amplitudes. We then go to **step 2** to repeat the application. This procedure will be repeated several times to zero in on the winner.\n",
        "\n",
        "After $t$ steps we will be in the state $|\\psi_t\\rangle$ where: $| \\psi_t \\rangle = (U_s U_f)^t  | s \\rangle.$\n",
        "\n",
        "How many times do we need to apply the rotation? It turns out that roughly $\\sqrt{N}$ rotations suffice. This becomes clear when looking at the amplitudes of the state $| \\psi \\rangle$. We can see that the amplitude of $| w \\rangle$ grows linearly with the number of applications $\\sim t N^{-1/2}$. However, since we are dealing with amplitudes and not probabilities, the vector space's dimension enters as a square root. Therefore it is the amplitude, and not just the probability, that is being amplified in this procedure.\n",
        "\n",
        "To calculate the number of rotations we need to know the size of the search space and the number of answers we are looking for. The get the optimal number of iterations $t$, we can follow the equation:     \n",
        "\n",
        "$$\n",
        "t = \\lfloor\\frac{\\pi}{4}\\sqrt{\\frac{N}{m}}\\rfloor\n",
        "$$\n",
        "\n",
        "Where N is the size of the search space and m is the number of answers we want.\n",
        "\n",
        "\n",
        "![screenshot_1743358309952.png](<https://media-hosting.imagekit.io/c9754693436f44af/screenshot_1743358309952.png?Expires=1837966310&Key-Pair-Id=K2ZIVPTIP2VGHC&Signature=iH8bgrlSFXqacr-QNAPhWpzY~PzTsBDsR0~Woi4MkO7Gcr6YQcxSdDm0ohMFlE1pGhmHYlcTDOAF4~TiAigzJubzkgtOSUI3VmEbFfngYJtO~jyUXCqP9c5iELTVXI2eUKZXsRg6PsqnjBnrNI25~2uHLxwA3nhRSS34Fhc-IwkmmyAJuuCdWHTAloSrI~1ZYcP0sxtpEaiGYWJvetU9RlNpRf2vcN45Scu8l1C4HcbTebrAQFcdxeNiJeq~flGoYGLikWJzOr7CvDWV~1mFcetg2N6wxlSIRtBL64luP~QWE-xKpLNjiOlSlPqky1dve~RN0zi-8vw3-58aX~zrIw__>)"
      ]
    },
    {
      "cell_type": "markdown",
      "metadata": {
        "gloss": {
          "ds": {
            "text": "The Dicke state |Dnk〉is an equal-weight superposition of all n-qubit states with Hamming Weight k.",
            "title": "Dicke-state"
          },
          "ss": {
            "text": "Also known as permutation-symmetric quantum states are states that are invariant under any permutation of their subsystems.",
            "title": "symmetric states"
          }
        },
        "id": "nvPLfv-fPlTT"
      },
      "source": [
        "&nbsp;\n",
        "\n",
        "## 1.2 Grover Step by Step <a id='step'></a>\n",
        "\n",
        "Now that we went through how Grover's algorithm actually work, let's go a little bit in depth about the construction and different cases for each of its components.\n",
        "\n",
        "##  1.2.1 Preparing the Search Space <a id='state-prep'></a>\n",
        "\n",
        "The first step of Grover's algorithm is the initial state preparation. As we just mentioned, the search space is all possible values we need to search through to find the answer we want. For the examples in this textbook, our 'database' is comprised of all the possible computational basis states our qubits can be in. For example, if we have 3 qubits, our list is the states $|000\\rangle, |001\\rangle, \\dots |111\\rangle$ (i.e the states $|0\\rangle \\rightarrow |7\\rangle$). So, in this case the size of our search space will be $N = 2^{3} = 8$.\n",
        "\n",
        "In some cases, if we know the range within the search space where the answer is guaranteed to be, we can eliminate the redundant basis out of our search space to speed up the algorithm and decrease the size of the circuit. Generally speaking, we can prepare our state using any symmetric states, such as GHZ-states, W-states, or Dicke-states.\n",
        "\n",
        "For example, if we are trying to solve a problem with one answer using 4 qubits, and we prepare our state using the Hadamard gate (i.e. forming the Hilbert Space), N will be 16. But, if we know that the answer is within states when only one qubit has the value of 1 at any time, we can then use the W-state instead of the full Hilbert space to prepare our states. Doing that, decreased the size of the search space from 16 to 4 and the number of optimal iterations $t$ from 3 to 1."
      ]
    },
    {
      "cell_type": "markdown",
      "metadata": {
        "id": "tXMkp9-WPlTT"
      },
      "source": [
        "## 1.2.2 Creating the Oracle\n",
        "\n",
        "The second and most important step of Grover’s algorithm is the oracle. Oracles add a negative phase to the solution states so they can standout from the rest and be measured. I.e. for any state $|x\\rangle$ in the computational basis:\n",
        "\n",
        "$$\n",
        "U_\\omega|x\\rangle = \\bigg\\{\n",
        "\\begin{aligned}\n",
        "\\phantom{-}|x\\rangle \\quad \\text{if} \\; x \\neq \\omega \\\\\n",
        "-|x\\rangle \\quad \\text{if} \\; x = \\omega \\\\\n",
        "\\end{aligned}\n",
        "$$\n",
        "\n",
        "This oracle will be a diagonal matrix, where the entry that correspond to the marked item will have a negative phase. For example, if we have three qubits and $\\omega = \\text{101}$, our oracle will have the matrix:\n",
        "\n",
        "$$\n",
        "U_\\omega =\n",
        "\\begin{bmatrix}\n",
        "1 & 0 & 0 & 0 & 0 & 0 & 0 & 0 \\\\\n",
        "0 & 1 & 0 & 0 & 0 & 0 & 0 & 0 \\\\\n",
        "0 & 0 & 1 & 0 & 0 & 0 & 0 & 0 \\\\\n",
        "0 & 0 & 0 & 1 & 0 & 0 & 0 & 0 \\\\\n",
        "0 & 0 & 0 & 0 & 1 & 0 & 0 & 0 \\\\\n",
        "0 & 0 & 0 & 0 & 0 & -1 & 0 & 0 \\\\\n",
        "0 & 0 & 0 & 0 & 0 & 0 & 1 & 0 \\\\\n",
        "0 & 0 & 0 & 0 & 0 & 0 & 0 & 1 \\\\\n",
        "\\end{bmatrix}\n",
        "\\begin{aligned}\n",
        "\\\\\n",
        "\\\\\n",
        "\\\\\n",
        "\\\\\n",
        "\\\\\n",
        "\\\\\n",
        "\\leftarrow \\omega = \\text{101}\\\\\n",
        "\\\\\n",
        "\\\\\n",
        "\\\\\n",
        "\\end{aligned}\n",
        "$$\n",
        "\n",
        "\n",
        "What makes Grover’s algorithm so powerful is how easy it is to convert a problem to an oracle of this form. There are many computational problems in which it is difficult to _find_ a solution, but relatively easy to _verify_ a solution. For example, we can easily verify a solution to a sudoku by checking all the rules are satisfied. For these problems, we can create a function $f$ that takes a proposed solution $x$, and returns $f(x) = 0$ if $x$ is not a solution ($x \\neq \\omega$) and $f(x) = 1$ for a valid solution ($x = \\omega$). Our oracle can then be described as:\n",
        "\n",
        "$$\n",
        "U_\\omega|x\\rangle = (-1)^{f(x)}|x\\rangle\n",
        "$$\n",
        "\n",
        "and the oracle's matrix will be a diagonal matrix of the form:\n",
        "\n",
        "$$\n",
        "U_\\omega =\n",
        "\\begin{bmatrix}\n",
        "(-1)^{f(0)} &   0         & \\cdots &   0         \\\\\n",
        "0           & (-1)^{f(1)} & \\cdots &   0         \\\\\n",
        "\\vdots      &   0         & \\ddots & \\vdots      \\\\\n",
        "0           &   0         & \\cdots & (-1)^{f(2^n-1)} \\\\\n",
        "\\end{bmatrix}\n",
        "$$\n",
        "\n",
        "\n",
        "\n",
        "<p>\n",
        "If we have our classical function $f(x)$, we can convert it to a reversible circuit of the form:\n",
        "\n",
        "![screenshot_1743358561343.png](<https://media-hosting.imagekit.io/41d5bedfbe5a4e74/screenshot_1743358561343.png?Expires=1837966561&Key-Pair-Id=K2ZIVPTIP2VGHC&Signature=n7SQOeeR0KU-3FPiV7e36S2B9t2mtdmkcTsm1~X5VXhQ6WZy-5S3CXiv4mNVhNbPEntIcQg3Ujza-FAujwE11iS7RMw09-e04v8jyUm49GMQJiVNlM98EcXC6PAy2mvGAHtZHS9e~4YrIwqg970uZZ3wU7t7IVeTwPyZsMFixQoBZd64r769cy9MypX-VVSTqPuzNesYSOFf6bKBtWBVUpy1G54o9EjCRPkOeNsNDHPEzrZay1aoz-eF7--rnNa1Xcb0SG1z1deIaiQYOIIjtxZqIBGfYK~G5j3Nd8tHw7MvIgxjZbGMfG0RnkrSwawgFHLO2JaysmeHsoJl1v2Kbw__>)\n",
        "\n",
        "If we initialize the 'output' qubit in the state $|{-}\\rangle$, the phase kickback effect turns this into a Grover oracle (similar to the workings of the Deutsch-Jozsa oracle):\n",
        "\n",
        "![screenshot_1743358600351.png](<https://media-hosting.imagekit.io/4d9e1ae240624cdc/screenshot_1743358600351.png?Expires=1837966600&Key-Pair-Id=K2ZIVPTIP2VGHC&Signature=sKzNRolWOlcTJvJB4R45nW~UC~hBjPFw11NMUzN3jfKg7TWZ4kcaJpzMt2lVWE65lca9UGRSOvJf1yMUIxmxPhFms2PKg5GFDwthfPayS7kS9e6UUD2PHZ1r1fYCyyqzZ3s7mfGxCBxjp8C~29xLM~33j2Ywett-dA1mH1B8baN7h-yYwsrIdljF3BrbzXbFm0OnCts0aoXYKNRdtG5KqK~hM5K1SWa4TfQaHk9S6aYWsgcWYYCW-IZTxXkZsH9dLAyraOD~U~os4f8gg1hyAOooE2lSA81otqbgs59pkJuuuSv6a0DX1Ezgjy7k1dnLVBYlZZz4f3fSpVEM-nUiHA__>)\n",
        "\n",
        "We then ignore the auxiliary ($|{-}\\rangle$) qubit.\n",
        "</p>\n",
        "\n",
        "\n",
        "\n"
      ]
    },
    {
      "cell_type": "markdown",
      "metadata": {
        "id": "ElKk75XePlTU"
      },
      "source": [
        "##  1.2.3 The Diffusion Operator <a id='diffusion'></a>\n",
        "\n",
        "Finally, after the oracle has marked the correct answer by making it negative, the last step of Grover's algorithm which is the diffusion operator.\n",
        "\n",
        "The construction of the diffusion operator depends on what we decide to use to prepare our initial states. Generally, the diffusion operator has the following construction.\n",
        "\n",
        "![screenshot_1743358636646.png](<https://media-hosting.imagekit.io/6c12f2ebcdc64acd/screenshot_1743358636646.png?Expires=1837966636&Key-Pair-Id=K2ZIVPTIP2VGHC&Signature=dNYxy03bflrseYnCN6ayTiG8PcFt~XE19AqZlsfub8JAfWCbBSUvbMH52ymWbuOLyHN4hS4AHCHhc-KADvyaAX9S-XPbjvJucd9Eng1gRnZHi9C7X9gEHCoCuJWNhHsSRciNr4YCjALmBk1og7DVIDqdH364y9v04zPm9tJ0U5snm1nVPn2kSmdSCncNlY-gx5OCKPY3JcqCI~pAddbdBOdwekDBza-WT7KwB7ydNHnyNuNo7Zu9EVRJeM-6wuZxylQfvBuwrVNioUzFeQ6RLzkmXh~tXi2MQ~oFCb-L1oLOgeN44cYBbpBCR7D4PL936h5~Zohb8sj3MCCPmqEgXw__>)\n",
        "\n",
        "For the next part of this chapter, we will create example oracles where we know $\\omega$ beforehand, and not worry ourselves with whether these oracles are useful or not. At the end of the chapter, we will cover a short example where we create an oracle to solve a problem (sudoku) and a famous graph problem, the triangle finding problem."
      ]
    },
    {
      "cell_type": "markdown",
      "metadata": {
        "id": "HkiKSrZnPlTU"
      },
      "source": [
        "## 2. Example: 2 Qubits <a id='2qubits'></a>\n",
        "\n",
        "Let's first have a look at the case of Grover's algorithm for $N=4$ which is realized with 2 qubits. In this particular case, only <b>one rotation</b> is required to rotate the initial state $|s\\rangle$ to the winner $|w\\rangle$[3]:\n",
        "\n",
        "1. Following  the above introduction, in the case $N=4$ we have\n",
        "\n",
        "   $$\\theta = \\arcsin \\frac{1}{2} = \\frac{\\pi}{6}.$$\n",
        "\n",
        "2. After $t$ steps, we have\n",
        "\n",
        "   $$(U_s U_\\omega)^t  | s \\rangle = \\sin \\theta_t | \\omega \\rangle + \\cos \\theta_t | s' \\rangle ,$$\n",
        "   \n",
        "   where\n",
        "   \n",
        "   $$\\theta_t = (2t+1)\\theta.$$\n",
        "\n",
        "3. In order to obtain $| \\omega \\rangle$ we need $\\theta_t = \\frac{\\pi}{2}$, which with $\\theta=\\frac{\\pi}{6}$ inserted above results to $t=1$. This implies that after $t=1$ rotation the searched element is found.\n",
        "\n",
        "\n",
        "We will now follow through an example using a specific oracle.\n",
        "\n",
        "#### Oracle for $\\lvert \\omega \\rangle = \\lvert 11 \\rangle$\n",
        "Let's look at the case $\\lvert w \\rangle = \\lvert 11 \\rangle$. The oracle $U_\\omega$ in this case acts as follows:\n",
        "\n",
        "$$U_\\omega | s \\rangle = U_\\omega \\frac{1}{2}\\left( |00\\rangle + |01\\rangle + |10\\rangle + |11\\rangle \\right) = \\frac{1}{2}\\left( |00\\rangle + |01\\rangle + |10\\rangle - |11\\rangle \\right).$$\n",
        "\n",
        "or:\n",
        "\n",
        "$$\n",
        "U_\\omega =\n",
        "\\begin{bmatrix}\n",
        "1 & 0 & 0 & 0 \\\\\n",
        "0 & 1 & 0 & 0 \\\\\n",
        "0 & 0 & 1 & 0 \\\\\n",
        "0 & 0 & 0 & -1 \\\\\n",
        "\\end{bmatrix}\n",
        "$$\n",
        "\n",
        "which you may recognise as the controlled-Z gate. Thus, for this example, our oracle is simply the controlled-Z gate:\n",
        "\n",
        "![screenshot_1743358657952.png](<https://media-hosting.imagekit.io/64e5deffbb874d36/screenshot_1743358657952.png?Expires=1837966658&Key-Pair-Id=K2ZIVPTIP2VGHC&Signature=qqAYhHDjkmlFJyGSvCzNtL4WwdUqT9Rus0f7PQ7Icu0bYJYdlvCY86YKBBeElzdgDcf9omM0VQuP9vAk6vXWMHF4Zu7A50YurqgUixLM99vyTXcDAEldR2eMAHOKK1ePEf07EUqS3e9-AQBlOVfDfOs-NrZa5hBXLEfRAZQzLVc8vjYlxIXpabamnViCkVhttEQeE7bozKSpr5Rw~4~LcepkSRdt-dBwZXB7ZQFSzZgNaFAvi4gKnlqlMirKGbIzXGEyRWr-S1j7Fz3J0Nn2dSCiudtNAlFKhkSim4pgFPq90g2Grmi-YUqc1qRYMKMCr7EzEjPvUyv6vHnDHIOG2g__>)\n",
        "\n",
        "#### Reflection $U_s$\n",
        "\n",
        "In order to complete the circuit we need to implement the additional reflection $U_s = 2|s\\rangle\\langle s| - \\mathbb{1}$. Since this is a reflection about $|s\\rangle$, we want to add a negative phase to every state orthogonal to $|s\\rangle$.\n",
        "\n",
        "One way we can do this is to use the operation that transforms the state $|s\\rangle \\rightarrow |0\\rangle$, which we already know is the Hadamard gate applied to each qubit:\n",
        "\n",
        "$$H^{\\otimes n}|s\\rangle = |0\\rangle$$\n",
        "\n",
        "Then we apply a circuit that adds a negative phase to the states orthogonal to $|0\\rangle$:\n",
        "\n",
        "$$U_0 \\frac{1}{2}\\left( \\lvert 00 \\rangle + \\lvert 01 \\rangle + \\lvert 10 \\rangle + \\lvert 11 \\rangle \\right) = \\frac{1}{2}\\left( \\lvert 00 \\rangle - \\lvert 01 \\rangle - \\lvert 10 \\rangle - \\lvert 11 \\rangle \\right)$$\n",
        "\n",
        "i.e. the signs of each state are flipped except for $\\lvert 00 \\rangle$. As can easily be verified, one way of implementing $U_0$ is the following circuit:\n",
        "\n",
        "![screenshot_1743358674658.png](<https://media-hosting.imagekit.io/3f42cd6e20fc44f3/screenshot_1743358674658.png?Expires=1837966674&Key-Pair-Id=K2ZIVPTIP2VGHC&Signature=fa20HH8sRGv0w3lxP~1fkZoSEnEJMgN9fW7~FfPBS5J6SbejXoA2V9QQfBkjmSbZ6px3~5KoQcI0RamUQO7lCpvh4woFUOm3yeaXqvI7lyvmrLRy-R0KnoR1lmjg9dGfJc-xFz9PSq-m~1Jv09Vz2c8bXCiPF8C-efRHSizZz7vHiGWeTkQAjB3Sa76CnpdksNifJABWjQPBMqu5pEOJNwOh3w24byNjjI9NMqWVO-ySGFezcLwPQDlFc7eoaMbHY3hwpDiHQmb12kNoIyKpBqHm4HLhd3Z4-qV4qMw1O5dJbifTDGmgRJ71cN1qUBXNIW9VW-dOjWTwJS8RdoYHcQ__>)\n",
        "\n",
        "Finally, we do the operation that transforms the state $|0\\rangle \\rightarrow |s\\rangle$ (the H-gate again):\n",
        "\n",
        "$$H^{\\otimes n}U_0 H^{\\otimes n} = U_s$$\n",
        "\n",
        "The complete circuit for $U_s$ looks like this:\n",
        "\n",
        "![screenshot_1743358712984.png](<https://media-hosting.imagekit.io/82a852bddb2242e6/screenshot_1743358712984.png?Expires=1837966713&Key-Pair-Id=K2ZIVPTIP2VGHC&Signature=xZ04o9hJ~iQWZrN~zHUk79Dac7igASeBjbkq1VuxTW3uZ7XfVKNbozZM8EgsFGgDx3qpvYRfPdMzvUJozCSt1~D4xNGxAHyDqKzBAwcmC3beNcyCPSH0JPevLcwtRox7PhpqZerg~hXZqsY05vEpDCLg8za1RLoJWIlF-RErmT8d~8RwZyFvn6QEnC-7m0c5aQYeLV8c2SrY8htwoyt8sAeBohpSc9lDbHIL3aLMX0CIi32ys9H-GJZAD6ZFUxkFEsQXHGSD8YWUtYOGTmw0A8m5rM~yucc93vOYg5Pebl62S8AZHG6qS3wm399Gu2uw9VXn847ZTLNQYjteDPxLUA__>)\n",
        "\n",
        "\n",
        "#### Full Circuit for $\\lvert w \\rangle = |11\\rangle$\n",
        "Since in the particular case of $N=4$ only one rotation is required we can combine the above components to build the full circuit for Grover's algorithm for the case $\\lvert w \\rangle = |11\\rangle$:\n",
        "\n",
        "![screenshot_1743358727520.png](<https://media-hosting.imagekit.io/968567e071e54b5c/screenshot_1743358727520.png?Expires=1837966728&Key-Pair-Id=K2ZIVPTIP2VGHC&Signature=u2RRzH395hIAyYcL7R13Tt3efkSrbpqafi1ed-VvDVgcOFCpTjAoUZCUe~hHdYcXX80Nr8CVXWDBfqUWQKU4p6~nkRcoNfLCs1Jc2aFESiWIYvYSQiDNCEwHz1DVFwoOoAnOpy~N3Hon8eoWfV9~Ab2SiLVgGRZVZfzbAuht7aXBplAwTkcaQd0EtUb-HSvgJta4lS~lKHXuRAbutLCQL3wkzfHorqiEO6I~-VEa9V4KA0m82PYrgstZFtZR8Vl8vF9CIChOYqnZK-hTSVIdfxoNcHZz7VQsz1ItYPlboHJwYBkxnUCC5W2wsug8OxlsTBbiKXRALXeiSjaMvyKStA__>)\n",
        "\n"
      ]
    },
    {
      "cell_type": "markdown",
      "metadata": {
        "id": "lp2z91uWR2qk"
      },
      "source": [
        "### 2.1 Qiskit Implementation\n",
        "\n",
        "We now implement Grover's algorithm for the above case of 2 qubits for $\\lvert w \\rangle = |11\\rangle$."
      ]
    },
    {
      "cell_type": "code",
      "execution_count": null,
      "metadata": {
        "colab": {
          "base_uri": "https://localhost:8080/",
          "height": 191
        },
        "id": "gHMZvCV-R3Mg",
        "outputId": "d5cad097-a48c-470c-dbe6-054fd0b56ae3"
      },
      "outputs": [],
      "source": [
        "n = 2 # We are creating circuit with 2 qubits\n",
        "grover_circuit = QuantumCircuit(n) # Initializes a new quantum circuit with those 2 qubits, at this point, the circuit is empty – it has qubits but no gates applied yet.\n",
        "grover_circuit.draw(output='mpl')"
      ]
    },
    {
      "cell_type": "markdown",
      "metadata": {
        "id": "i20x_rNzPlTV"
      },
      "source": [
        "Then we simply need to write out the commands for the circuit depicted above. First, we need to initialize the state $|s\\rangle$. Let's create a general function (for any number of qubits) so we can use it again later:"
      ]
    },
    {
      "cell_type": "code",
      "execution_count": null,
      "metadata": {
        "id": "MaaPLsZRSEU5"
      },
      "outputs": [],
      "source": [
        "def initialize_s(qc, qubits):\n",
        "    \"\"\"Apply a H-gate to 'qubits' in qc\"\"\"\n",
        "    for q in qubits:\n",
        "        qc.h(q) # applies a Hadamard gate to qubit q (creating superposition)\n",
        "    return qc"
      ]
    },
    {
      "cell_type": "code",
      "execution_count": null,
      "metadata": {
        "colab": {
          "base_uri": "https://localhost:8080/",
          "height": 191
        },
        "id": "sy3wMxh7SFPj",
        "outputId": "a404cd80-6c88-4779-dd8d-4c647f93e564"
      },
      "outputs": [],
      "source": [
        "grover_circuit = initialize_s(grover_circuit, [0,1]) # gover_circuit -> our circuit, [0,1] -> qubits that needs to be put into superpsoyion state, mostly all input qubits. igff we had 3-qubits than we would wriote [0,1,2]\n",
        "grover_circuit.draw(output = 'mpl')"
      ]
    },
    {
      "cell_type": "markdown",
      "metadata": {
        "id": "ZCdrUyVTPlTV"
      },
      "source": [
        "Apply the Oracle for $|w\\rangle = |11\\rangle$. This oracle is specific to 2 qubits:"
      ]
    },
    {
      "cell_type": "markdown",
      "metadata": {
        "id": "zAJPPeNCPlTW"
      },
      "source": [
        "<span id=\"general_diffuser\"></span>\n",
        "We now want to apply the diffuser ($U_s$). As with the circuit that initialises $|s\\rangle$, we'll create a general diffuser (for any number of qubits) so we can use it later in other problems."
      ]
    },
    {
      "cell_type": "code",
      "execution_count": null,
      "metadata": {
        "colab": {
          "base_uri": "https://localhost:8080/",
          "height": 191
        },
        "id": "EUI_atOeSIyp",
        "outputId": "3ecc9ee2-ffd3-46db-d61d-997e74792b08"
      },
      "outputs": [],
      "source": [
        "# Diffusion operator (U_s)\n",
        "grover_circuit.h([0,1])\n",
        "grover_circuit.z([0,1])\n",
        "grover_circuit.cz(0,1)\n",
        "grover_circuit.h([0,1])\n",
        "grover_circuit.draw(output = 'mpl')"
      ]
    },
    {
      "cell_type": "markdown",
      "metadata": {
        "id": "hJNOZEa1PlTW"
      },
      "source": [
        "This is our finished circuit."
      ]
    },
    {
      "cell_type": "markdown",
      "metadata": {
        "id": "703M-hypPlTW"
      },
      "source": [
        "### 2.1.1 Experiment with Simulators <a id='2qubits-simulation'></a>\n",
        "\n",
        "Let's run the circuit in simulation. First, we can verify that we have the correct statevector:"
      ]
    },
    {
      "cell_type": "code",
      "execution_count": null,
      "metadata": {
        "colab": {
          "base_uri": "https://localhost:8080/",
          "height": 39
        },
        "id": "HC4ndzvCPlTW",
        "outputId": "a5de62d2-ad9e-40cd-fecd-af8eda77a762"
      },
      "outputs": [],
      "source": [
        "sv_sim = AerSimulator()\n",
        "# Add this line BEFORE running the circuit\n",
        "grover_circuit.save_statevector()\n",
        "\n",
        "# Run on statevector simulator\n",
        "sv_sim = AerSimulator()\n",
        "result = sv_sim.run(grover_circuit).result()\n",
        "\n",
        "# Extract the saved statevector\n",
        "statevec = result.get_statevector()\n",
        "\n",
        "# Display it in LaTeX\n",
        "array_to_latex(statevec, prefix=\"|\\\\psi\\\\rangle =\")"
      ]
    },
    {
      "cell_type": "markdown",
      "metadata": {
        "id": "n6aqPxH0PlTW"
      },
      "source": [
        "As expected, the amplitude of every state that is not $|11\\rangle$ is 0, this means we have a 100% chance of measuring $|11\\rangle$:"
      ]
    },
    {
      "cell_type": "code",
      "execution_count": null,
      "metadata": {
        "colab": {
          "base_uri": "https://localhost:8080/",
          "height": 487
        },
        "id": "eDCO6FlsPlTW",
        "outputId": "b9b5cb93-57ea-46e5-ea9b-2578a39d0743"
      },
      "outputs": [],
      "source": [
        "grover_circuit.measure_all()\n",
        "\n",
        "qasm_sim = AerSimulator()\n",
        "result = qasm_sim.run(grover_circuit).result()\n",
        "counts = result.get_counts()\n",
        "plot_histogram(counts)"
      ]
    },
    {
      "cell_type": "markdown",
      "metadata": {
        "id": "yOj8y4XZPlTX"
      },
      "source": [
        "## 3. Example: 3 Qubits <a id='3qubits'></a>\n",
        "\n",
        "We now go through the example of Grover's algorithm for 3 qubits with two marked states $\\lvert101\\rangle$ and $\\lvert110\\rangle$. The quantum circuit to solve the problem using a phase oracle is:\n",
        "\n",
        "![screenshot_1743359195276.png](<https://media-hosting.imagekit.io/a3be4bc691f74329/screenshot_1743359195276.png?Expires=1837967195&Key-Pair-Id=K2ZIVPTIP2VGHC&Signature=HQ6LeF0mWd-Qmde2UFOOoMfzKoq5-XcHRef7tV8YnPcyAB7RNtMecWGuue8W-5VpXXUIo0~Maojl~0GS1wVBnRHLUF75VNq3phsHY3Gwhe3lBjNH4N-OvI0JTCTjL1sY8HwgQpaHxmrnF-VkKXcAdGXoNj-euwOKPg7EivDnxNukAYJT2ag6JXIAdpttv~RqQr~~k9H0eZuQB6nFpJnMh9bUXYZktBj5QivnMaHbYuHxBynws5bf6YkkAvPpT3W4~pTXwGg8gbRHPZQoND1Ud-Pu9ObsiFsdIyL3zfyMuGQ26uUr5evAtsy6GF65xUZQvaF0Bs~tu~hm~R4CVAKGxA__>)\n",
        "\n",
        "1. Apply Hadamard gates to $3$ qubits initialised to $\\lvert000\\rangle$ to create a uniform superposition:\n",
        "   $$\\lvert \\psi_1 \\rangle = \\frac{1}{\\sqrt{8}} \\left(\n",
        "    \\lvert000\\rangle + \\lvert001\\rangle + \\lvert010\\rangle + \\lvert011\\rangle +\n",
        "    \\lvert100\\rangle + \\lvert101\\rangle + \\lvert110\\rangle + \\lvert111\\rangle \\right)\n",
        "   $$\n",
        "\n",
        "2. Mark states $\\lvert101\\rangle$ and $\\lvert110\\rangle$ using a phase oracle:\n",
        "   $$\\lvert \\psi_2 \\rangle = \\frac{1}{\\sqrt{8}} \\left(\n",
        "    \\lvert000\\rangle + \\lvert001\\rangle + \\lvert010\\rangle + \\lvert011\\rangle +\n",
        "    \\lvert100\\rangle - \\lvert101\\rangle - \\lvert110\\rangle + \\lvert111\\rangle \\right)\n",
        "   $$\n",
        "\n",
        "3. Perform the reflection around the average amplitude:\n",
        "   1. Apply Hadamard gates to the qubits\n",
        "      $$\n",
        "      \\lvert \\psi_{3a} \\rangle = \\frac{1}{2} \\left(\n",
        "      \\lvert000\\rangle +\\lvert011\\rangle +\\lvert100\\rangle -\\lvert111\\rangle \\right)\n",
        "      $$\n",
        "   \n",
        "   2. Apply X gates to the qubits\n",
        "      $$\n",
        "      \\lvert \\psi_{3b} \\rangle = \\frac{1}{2} \\left(\n",
        "      -\\lvert000\\rangle +\\lvert011\\rangle +\\lvert100\\rangle +\\lvert111\\rangle \\right)\n",
        "      $$\n",
        "   \n",
        "   3. Apply a doubly controlled Z gate between the 1, 2 (controls) and 3 (target) qubits\n",
        "      $$\n",
        "      \\lvert \\psi_{3c} \\rangle = \\frac{1}{2} \\left(\n",
        "      -\\lvert000\\rangle +\\lvert011\\rangle +\\lvert100\\rangle -\\lvert111\\rangle \\right)\n",
        "      $$\n",
        "   \n",
        "   4. Apply X gates to the qubits\n",
        "      $$\n",
        "      \\lvert \\psi_{3d} \\rangle = \\frac{1}{2} \\left(\n",
        "      -\\lvert000\\rangle +\\lvert011\\rangle +\\lvert100\\rangle -\\lvert111\\rangle \\right)\n",
        "      $$\n",
        "   \n",
        "   5. Apply Hadamard gates to the qubits\n",
        "      $$\n",
        "      \\lvert \\psi_{3e} \\rangle = \\frac{1}{\\sqrt{2}} \\left(\n",
        "      -\\lvert101\\rangle -\\lvert110\\rangle \\right)\n",
        "      $$\n",
        "\n",
        "4. Measure the $3$ qubits to retrieve states $\\lvert101\\rangle$ and $\\lvert110\\rangle$\n",
        "\n",
        "Note that since there are 2 solutions and 8 possibilities, we will only need to run one iteration (steps 2 & 3).\n",
        "\n",
        "### 3.1 Qiskit Implementation <a id='3qubit-implementation'></a>\n",
        "\n",
        "We now implement Grover's algorithm for the above example for $3$-qubits and searching for two marked states $\\lvert101\\rangle$ and $\\lvert110\\rangle$. **Note:** Remember that Qiskit orders it's qubits the opposite way round to this resource, so the circuit drawn will appear flipped about the horizontal.\n",
        "\n",
        "We create a phase oracle that will mark states $\\lvert101\\rangle$ and $\\lvert110\\rangle$ as the results (step 1)."
      ]
    },
    {
      "cell_type": "code",
      "execution_count": null,
      "metadata": {
        "id": "tADKXTY8PlTX"
      },
      "outputs": [],
      "source": [
        "qc = QuantumCircuit(3)\n",
        "qc.cz(0, 2)\n",
        "qc.cz(1, 2)\n",
        "oracle_ex3 = qc.to_gate()\n",
        "oracle_ex3.name = \"U$_\\omega$\""
      ]
    },
    {
      "cell_type": "markdown",
      "metadata": {
        "id": "JPPbpCCxPlTX"
      },
      "source": [
        "In the last section, we used a diffuser specific to 2 qubits, in the cell below we will create a general diffuser for any number of qubits.\n",
        "\n",
        "### Detail\n",
        "\n",
        "    \n",
        "Remember that we can create $U_s$ from $U_0$:\n",
        "\n",
        "$$ U_s = H^{\\otimes n} U_0 H^{\\otimes n} $$\n",
        "\n",
        "And a multi-controlled-Z gate ($MCZ$) inverts the phase of the state $|11\\dots 1\\rangle$:\n",
        "\n",
        "$$\n",
        "MCZ =\n",
        "\\begin{bmatrix}\n",
        " 1 & 0 & 0 & \\cdots & 0 \\\\\n",
        " 0 & 1 & 0 & \\cdots & 0 \\\\\n",
        " \\vdots & \\vdots & \\vdots & \\ddots & \\vdots \\\\\n",
        " 0 & 0 & 0 & \\cdots & -1 \\\\\n",
        "\\end{bmatrix}\n",
        "\\begin{aligned}\n",
        "\\\\\n",
        "\\\\\n",
        "\\\\\n",
        "\\leftarrow \\text{Add negative phase to} \\; |11\\dots 1\\rangle\\\\\n",
        "\\end{aligned}\n",
        "$$\n",
        "\n",
        "Applying an X-gate to each qubit performs the transformation:\n",
        "\n",
        "$$\n",
        "\\begin{aligned}\n",
        "|00\\dots 0\\rangle & \\rightarrow |11\\dots 1\\rangle\\\\\n",
        "|11\\dots 1\\rangle & \\rightarrow |00\\dots 0\\rangle\n",
        "\\end{aligned}\n",
        "$$\n",
        "\n",
        "So:\n",
        "\n",
        "$$ U_0 = - X^{\\otimes n} (MCZ) X^{\\otimes n} $$\n",
        "\n",
        "Using these properties together, we can create $U_s$ using H-gates, X-gates, and a single multi-controlled-Z gate:\n",
        "\n",
        "$$ U_s = - H^{\\otimes n} U_0 H^{\\otimes n} = H^{\\otimes n} X^{\\otimes n} (MCZ) X^{\\otimes n} H^{\\otimes n} $$\n",
        "    \n",
        "Note that we can ignore the global phase of -1."
      ]
    },
    {
      "cell_type": "code",
      "execution_count": null,
      "metadata": {
        "id": "LTlS6YA6PlTX"
      },
      "outputs": [],
      "source": [
        "def diffuser(nqubits):\n",
        "    qc = QuantumCircuit(nqubits)\n",
        "    # Apply transformation |s> -> |00..0> (H-gates)\n",
        "    for qubit in range(nqubits):\n",
        "        qc.h(qubit)\n",
        "    # Apply transformation |00..0> -> |11..1> (X-gates)\n",
        "    for qubit in range(nqubits):\n",
        "        qc.x(qubit)\n",
        "    # Do multi-controlled-Z gate\n",
        "    qc.h(nqubits-1)\n",
        "    qc.mct(list(range(nqubits-1)), nqubits-1)  # multi-controlled-toffoli\n",
        "    qc.h(nqubits-1)\n",
        "    # Apply transformation |11..1> -> |00..0>\n",
        "    for qubit in range(nqubits):\n",
        "        qc.x(qubit)\n",
        "    # Apply transformation |00..0> -> |s>\n",
        "    for qubit in range(nqubits):\n",
        "        qc.h(qubit)\n",
        "    # We will return the diffuser as a gate\n",
        "    U_s = qc.to_gate()\n",
        "    U_s.name = \"U$_s$\"\n",
        "    return U_s"
      ]
    },
    {
      "cell_type": "markdown",
      "metadata": {
        "id": "3eht7lW4PlTX"
      },
      "source": [
        "We'll now put the pieces together, with the creation of a uniform superposition at the start of the circuit and a measurement at the end. Note that since there are 2 solutions and 8 possibilities, we will only need to run one iteration."
      ]
    },
    {
      "cell_type": "code",
      "execution_count": null,
      "metadata": {
        "id": "SH1PdVYHVv7r"
      },
      "outputs": [],
      "source": [
        "from qiskit.circuit.library import MCXGate\n",
        "\n",
        "def diffuser(n):\n",
        "    qc = QuantumCircuit(n)\n",
        "    qc.h(range(n))\n",
        "    qc.x(range(n))\n",
        "\n",
        "    # Apply multi-controlled-Z (using MCX + H)\n",
        "    qc.h(n - 1)\n",
        "    qc.append(MCXGate(n - 1), list(range(n - 1)) + [n - 1])\n",
        "    qc.h(n - 1)\n",
        "\n",
        "    qc.x(range(n))\n",
        "    qc.h(range(n))\n",
        "    return qc"
      ]
    },
    {
      "cell_type": "code",
      "execution_count": null,
      "metadata": {
        "colab": {
          "base_uri": "https://localhost:8080/",
          "height": 320
        },
        "id": "t9aCHPuQPlTY",
        "outputId": "62d0f055-abc2-4a11-a1b8-b931858795b9"
      },
      "outputs": [],
      "source": [
        "n = 3\n",
        "grover_circuit = QuantumCircuit(n)\n",
        "grover_circuit = initialize_s(grover_circuit, [0,1,2])\n",
        "grover_circuit.append(oracle_ex3, [0,1,2])\n",
        "grover_circuit.append(diffuser(n), [0,1,2])\n",
        "grover_circuit.measure_all()\n",
        "grover_circuit.draw(output = 'mpl')"
      ]
    },
    {
      "cell_type": "markdown",
      "metadata": {
        "id": "MpB_qBACPlTY"
      },
      "source": [
        "### 3.1.1 Experiment with Simulators  <a id='3qubits-simulation'></a>\n",
        "\n",
        "We can run the above circuit on the simulator."
      ]
    },
    {
      "cell_type": "code",
      "execution_count": null,
      "metadata": {
        "colab": {
          "base_uri": "https://localhost:8080/",
          "height": 487
        },
        "id": "_mQa7VcVPlTY",
        "outputId": "e0d967fb-cb41-4857-c7e0-6e21e021533d"
      },
      "outputs": [],
      "source": [
        "qasm_sim = AerSimulator()\n",
        "transpiled_grover_circuit = transpile(grover_circuit, qasm_sim)\n",
        "results = qasm_sim.run(transpiled_grover_circuit).result()\n",
        "counts = results.get_counts()\n",
        "plot_histogram(counts)"
      ]
    },
    {
      "cell_type": "markdown",
      "metadata": {
        "id": "Lyb87RSJPlTY"
      },
      "source": [
        "As we can see, the algorithm discovers our marked states $\\lvert101\\rangle$ and $\\lvert110\\rangle$."
      ]
    },
    {
      "cell_type": "markdown",
      "metadata": {
        "id": "o607OX5gPlTc"
      },
      "source": [
        "## 4. Problems <a id='problems'></a>\n",
        "\n",
        "The function `grover_problem_oracle` below takes a number of qubits (`n`), and a `variant` and returns an n-qubit oracle. The function will always return the same oracle for the same `n` and `variant`. You can see the solutions to each oracle by setting `print_solutions = True` when calling `grover_problem_oracle`."
      ]
    },
    {
      "cell_type": "code",
      "execution_count": null,
      "metadata": {
        "id": "oRi3suIYWGnc"
      },
      "outputs": [],
      "source": [
        "def grover_problem_oracle(n):\n",
        "    oracle = QuantumCircuit(n)\n",
        "\n",
        "    # Target state: |1101⟩\n",
        "    # Flip qubits to make the desired target state |1111⟩\n",
        "    oracle.x(0)  # flip q0 so we get |1101⟩ → |1111⟩\n",
        "\n",
        "    # Multi-controlled Z using H + MCX + H trick\n",
        "    oracle.h(n-1)\n",
        "    oracle.mcx(list(range(n-1)), n-1)  # deprecated in some versions; use MCXGate if needed\n",
        "    oracle.h(n-1)\n",
        "\n",
        "    # Undo the flip\n",
        "    oracle.x(0)\n",
        "\n",
        "    oracle.name = \"Oracle for |1101⟩\"\n",
        "    return oracle"
      ]
    },
    {
      "cell_type": "code",
      "execution_count": null,
      "metadata": {
        "colab": {
          "base_uri": "https://localhost:8080/",
          "height": 320
        },
        "id": "MK9wNmjiPlTc",
        "outputId": "9aa77963-121b-46b2-be67-04a2b36648b6"
      },
      "outputs": [],
      "source": [
        "n = 4\n",
        "oracle = grover_problem_oracle(n)\n",
        "qc = QuantumCircuit(n)\n",
        "qc.append(oracle, range(n))\n",
        "qc.draw('mpl')"
      ]
    },
    {
      "cell_type": "markdown",
      "metadata": {
        "id": "oJry7iimPlTc"
      },
      "source": [
        "1. `grover_problem_oracle(4, variant=2)` uses 4 qubits and has 1 solution.    \n",
        "   a. How many iterations do we need to have a > 90% chance of measuring this solution?    \n",
        "   b. Use Grover's algorithm to find this solution state.\n",
        "   c. What happens if we apply more iterations than the number we calculated in problem 1a above? Why?\n",
        "\n",
        "2. With 2 solutions and 4 qubits, how many iterations do we need for a >90% chance of measuring a solution? Test your answer using the oracle `grover_problem_oracle(4, variant=1)` (which has two solutions).\n",
        "\n",
        "3. Create a function, `grover_solver(oracle, iterations)` that takes as input:\n",
        "    - A Grover oracle as a gate (`oracle`)\n",
        "    - An integer number of iterations (`iterations`)\n",
        "    \n",
        "   and returns a `QuantumCircuit` that performs Grover's algorithm on the '`oracle`' gate, with '`iterations`' iterations."
      ]
    },
    {
      "cell_type": "markdown",
      "metadata": {
        "id": "IP47-2uzPlTc"
      },
      "source": [
        "## 4.1 Solving Sudoku using Grover's Algorithm <a id=\"sudoku\"></a>\n",
        "\n",
        "The oracles used throughout this chapter so far have been created with prior knowledge of their solutions. We will now solve a simple problem using Grover's algorithm, for which we do not necessarily know the solution beforehand. Our problem is a 2×2 binary sudoku, which in our case has two simple rules:\n",
        "\n",
        "- No column may contain the same value twice\n",
        "- No row may contain the same value twice\n",
        "\n",
        "If we assign each square in our sudoku to a variable like so:\n",
        "\n",
        "![screenshot_1743359313385.png](<https://media-hosting.imagekit.io/2cb9c118f80c4df7/screenshot_1743359313385.png?Expires=1837967314&Key-Pair-Id=K2ZIVPTIP2VGHC&Signature=Wn~WPMVUGsolWWlwXut1l40L3SUUtuI-69HYH2041iMJ9UFHpJAY2HnsXk81xxnW6PKRGY3NBTD6HlJeyCCTFoXqspT38Qy8AKqSx~-i9E7GJbD06YpxN~z7RaJKXDmgmGARwLMQsgGJ7ZdsqVqv5jFJUZj~9JYNMmrJeovcLlAYQsR1UqKcaH8NfRFFHuJy4NNnN8s8rAL2~pLR5wMNkDNUkqGDgnZ-34bvGaEgfNLAN1x2RTFVU05WgBnwLjOBU-SFtDFgGW8wNx7Wv5raN6QX7M-4-uOOoQKV6CRU4mg9hWB7SNe2FWb0b6vhhCrCVdehm71as0XomPtENJb~bA__>)\n",
        "\n",
        "we want our circuit to output a solution to this sudoku.\n",
        "\n",
        "Note that, while this approach of using Grover's algorithm to solve this problem is not practical (you can probably find the solution in your head!), the purpose of this example is to demonstrate the conversion of classical [decision problems](https://en.wikipedia.org/wiki/Decision_problem) into oracles for Grover's algorithm.\n",
        "\n",
        "### 4.1.1 Turning the Problem into a Circuit\n",
        "\n",
        "We want to create an oracle that will help us solve this problem, and we will start by creating a circuit that identifies a correct solution. Similar to how we created a classical adder using quantum circuits in [_The Atoms of Computation_](/course/ch-states/the-atoms-of-computation), we simply need to create a _classical_ function on a quantum circuit that checks whether the state of our variable bits is a valid solution.\n",
        "\n",
        "Since we need to check down both columns and across both rows, there are 4 conditions we need to check:\n",
        "\n",
        "```\n",
        "v0 ≠ v1   # check along top row\n",
        "v2 ≠ v3   # check along bottom row\n",
        "v0 ≠ v2   # check down left column\n",
        "v1 ≠ v3   # check down right column\n",
        "```\n",
        "\n",
        "Remember we are comparing classical (computational basis) states. For convenience, we can compile this set of comparisons into a list of clauses:"
      ]
    },
    {
      "cell_type": "code",
      "execution_count": null,
      "metadata": {
        "id": "giM_M678PlTd",
        "tags": [
          "thebelab-init"
        ]
      },
      "outputs": [],
      "source": [
        "clause_list = [[0,1],\n",
        "               [0,2],\n",
        "               [1,3],\n",
        "               [2,3]]"
      ]
    },
    {
      "cell_type": "markdown",
      "metadata": {
        "id": "QNg7p6M-PlTd"
      },
      "source": [
        "We will assign the value of each variable to a bit in our circuit. To check these clauses computationally, we will use the `XOR` gate (we came across this in the atoms of computation)."
      ]
    },
    {
      "cell_type": "code",
      "execution_count": null,
      "metadata": {
        "id": "R_x4cTn-PlTd",
        "tags": [
          "thebelab-init"
        ]
      },
      "outputs": [],
      "source": [
        "def XOR(qc, a, b, output):\n",
        "    qc.cx(a, output)\n",
        "    qc.cx(b, output)"
      ]
    },
    {
      "cell_type": "markdown",
      "metadata": {
        "id": "gEz-t-nePlTd"
      },
      "source": [
        "Convince yourself that the `output0` bit in the circuit below will only be flipped if `input0 ≠ input1`:"
      ]
    },
    {
      "cell_type": "code",
      "execution_count": null,
      "metadata": {
        "colab": {
          "base_uri": "https://localhost:8080/",
          "height": 255
        },
        "id": "y6S8OkGnPlTd",
        "outputId": "2884293e-3dd7-430b-cf46-cd7c58e5c07d"
      },
      "outputs": [],
      "source": [
        "# We will use separate registers to name the bits\n",
        "in_qubits = QuantumRegister(2, name='input')\n",
        "out_qubit = QuantumRegister(1, name='output')\n",
        "qc = QuantumCircuit(in_qubits, out_qubit)\n",
        "XOR(qc, in_qubits[0], in_qubits[1], out_qubit)\n",
        "qc.draw(output ='mpl')"
      ]
    },
    {
      "cell_type": "markdown",
      "metadata": {
        "id": "XzjqDDxrPlTd"
      },
      "source": [
        "This circuit checks whether `input0 == input1` and stores the output to `output0`. To check each clause, we repeat this circuit for each pairing in `clause_list` and store the output to a new bit:"
      ]
    },
    {
      "cell_type": "code",
      "execution_count": null,
      "metadata": {
        "colab": {
          "base_uri": "https://localhost:8080/",
          "height": 577
        },
        "id": "VosqiP-qPlTd",
        "outputId": "f213c835-847a-40df-e148-8f6a79f4b132"
      },
      "outputs": [],
      "source": [
        "# Create separate registers to name bits\n",
        "var_qubits = QuantumRegister(4, name='v')  # variable bits\n",
        "clause_qubits = QuantumRegister(4, name='c')  # bits to store clause-checks\n",
        "\n",
        "# Create quantum circuit\n",
        "qc = QuantumCircuit(var_qubits, clause_qubits)\n",
        "\n",
        "# Use XOR gate to check each clause\n",
        "i = 0\n",
        "for clause in clause_list:\n",
        "    XOR(qc, clause[0], clause[1], clause_qubits[i])\n",
        "    i += 1\n",
        "\n",
        "qc.draw(output ='mpl')"
      ]
    },
    {
      "cell_type": "markdown",
      "metadata": {
        "id": "sLvcllI-PlTd"
      },
      "source": [
        "The final state of the bits `c0, c1, c2, c3` will only all be `1` in the case that the assignments of `v0, v1, v2, v3` are a solution to the sudoku. To complete our checking circuit, we want a single bit to be `1` if (and only if) all the clauses are satisfied, this way we can look at just one bit to see if our assignment is a solution. We can do this using a multi-controlled-Toffoli-gate:"
      ]
    },
    {
      "cell_type": "code",
      "execution_count": null,
      "metadata": {
        "colab": {
          "base_uri": "https://localhost:8080/",
          "height": 642
        },
        "id": "jx_FVQZ3PlTe",
        "outputId": "4880205e-0dc7-4458-fc2d-437eec7c805a"
      },
      "outputs": [],
      "source": [
        "\n",
        "# Create registers\n",
        "var_qubits = QuantumRegister(4, name='v')\n",
        "clause_qubits = QuantumRegister(4, name='c')\n",
        "output_qubit = QuantumRegister(1, name='out')\n",
        "qc = QuantumCircuit(var_qubits, clause_qubits, output_qubit)\n",
        "\n",
        "# Compute clauses\n",
        "for i, clause in enumerate(clause_list):\n",
        "    XOR(qc, clause[0], clause[1], clause_qubits[i])\n",
        "\n",
        "# Flip output if all clauses are satisfied (using multi-controlled X)\n",
        "qc.append(MCXGate(len(clause_qubits)), clause_qubits[:] + [output_qubit[0]])\n",
        "\n",
        "qc.draw('mpl')\n"
      ]
    },
    {
      "cell_type": "code",
      "execution_count": null,
      "metadata": {
        "id": "8FH0f32FPlTe"
      },
      "outputs": [],
      "source": [
        "def sudoku_oracle(qc, clause_list, clause_qubits, output_qubit):\n",
        "    # Compute clauses\n",
        "    for i, clause in enumerate(clause_list):\n",
        "        XOR(qc, clause[0], clause[1], clause_qubits[i])\n",
        "\n",
        "    # Flip output bit if all clauses are satisfied\n",
        "    qc.append(MCXGate(len(clause_qubits)), clause_qubits[:] + [output_qubit[0]])\n",
        "\n",
        "    # Uncompute clauses\n",
        "    for i, clause in enumerate(clause_list):\n",
        "        XOR(qc, clause[0], clause[1], clause_qubits[i])\n",
        "\n",
        "sudoku_oracle(qc, clause_list, clause_qubits, output_qubit)"
      ]
    },
    {
      "cell_type": "markdown",
      "metadata": {
        "id": "I6c83VHNPlTe"
      },
      "source": [
        "In summary, the circuit above performs:\n",
        "\n",
        "$$\n",
        "U_\\omega|x\\rangle|0\\rangle|\\text{out}_0\\rangle = \\Bigg\\{\n",
        "\\begin{aligned}\n",
        "|x\\rangle|0\\rangle|\\text{out}_0\\rangle \\quad \\text{for} \\; x \\neq \\omega \\\\\n",
        "|x\\rangle|0\\rangle\\otimes X|\\text{out}_0\\rangle \\quad \\text{for} \\; x = \\omega \\\\\n",
        "\\end{aligned}\n",
        "$$\n",
        "\n",
        "and if the initial state of $|\\text{out}_0\\rangle = |{-}\\rangle$,:\n",
        "\n",
        "$$\n",
        "U_\\omega|x\\rangle|0\\rangle|{-}\\rangle = \\Bigg\\{\n",
        "\\begin{aligned}\n",
        "\\phantom{-}|x\\rangle|0\\rangle|-\\rangle \\quad \\text{for} \\; x \\neq \\omega \\\\\n",
        "-|x\\rangle|0\\rangle|-\\rangle \\quad \\text{for} \\; x = \\omega \\\\\n",
        "\\end{aligned}\n",
        "$$"
      ]
    },
    {
      "cell_type": "markdown",
      "metadata": {
        "id": "3Iu3__r9PlTe"
      },
      "source": [
        "### 4.1.3 The Full Algorithm\n",
        "\n",
        "All that's left to do now is to put all these components together."
      ]
    },
    {
      "cell_type": "code",
      "execution_count": null,
      "metadata": {
        "colab": {
          "base_uri": "https://localhost:8080/",
          "height": 250
        },
        "id": "jQMMyDThPlTe",
        "outputId": "891882a4-65e2-4e36-d70b-d455639c62a6"
      },
      "outputs": [],
      "source": [
        "var_qubits = QuantumRegister(4, name='v')\n",
        "clause_qubits = QuantumRegister(4, name='c')\n",
        "output_qubit = QuantumRegister(1, name='out')\n",
        "cbits = ClassicalRegister(4, name='cbits')\n",
        "qc = QuantumCircuit(var_qubits, clause_qubits, output_qubit, cbits)\n",
        "\n",
        "# Initialize 'out0' in state |->\n",
        "qc.initialize([1, -1]/np.sqrt(2), output_qubit)\n",
        "\n",
        "# Initialize qubits in state |s>\n",
        "qc.h(var_qubits)\n",
        "qc.barrier()  # for visual separation\n",
        "\n",
        "## First Iteration\n",
        "# Apply our oracle\n",
        "sudoku_oracle(qc, clause_list, clause_qubits, output_qubit)\n",
        "qc.barrier()  # for visual separation\n",
        "# Apply our diffuser\n",
        "qc.append(diffuser(4), [0,1,2,3])\n",
        "\n",
        "## Second Iteration\n",
        "sudoku_oracle(qc, clause_list, clause_qubits, output_qubit)\n",
        "qc.barrier()  # for visual separation\n",
        "# Apply our diffuser\n",
        "qc.append(diffuser(4), [0,1,2,3])\n",
        "\n",
        "# Measure the variable qubits\n",
        "qc.measure(var_qubits, cbits)\n",
        "\n",
        "qc.draw(fold=-1, output = 'mpl')"
      ]
    },
    {
      "cell_type": "code",
      "execution_count": null,
      "metadata": {
        "colab": {
          "base_uri": "https://localhost:8080/",
          "height": 487
        },
        "id": "PxB9WdIUPlTe",
        "outputId": "90314803-420a-426d-c2c5-0f53f236e4a8",
        "scrolled": false
      },
      "outputs": [],
      "source": [
        "# Simulate and plot results\n",
        "qasm_simulator = AerSimulator()\n",
        "transpiled_qc = transpile(qc, qasm_simulator)\n",
        "result = qasm_sim.run(transpiled_qc).result()\n",
        "plot_histogram(result.get_counts())"
      ]
    },
    {
      "cell_type": "markdown",
      "metadata": {
        "id": "8at3K_zSPlTf"
      },
      "source": [
        "There are two bit strings with a much higher probability of measurement than any of the others, `0110` and `1001`. These correspond to the assignments:\n",
        "```\n",
        "v0 = 0\n",
        "v1 = 1\n",
        "v2 = 1\n",
        "v3 = 0\n",
        "```\n",
        "and\n",
        "```\n",
        "v0 = 1\n",
        "v1 = 0\n",
        "v2 = 0\n",
        "v3 = 1\n",
        "```\n",
        "which are the two solutions to our sudoku! The aim of this section is to show how we can create Grover oracles from real problems. While this specific problem is trivial, the process can be applied (allowing large enough circuits) to any decision problem. To recap, the steps are:\n",
        "\n"
      ]
    },
    {
      "cell_type": "markdown",
      "metadata": {
        "id": "rIyMojPjPlTf"
      },
      "source": [
        "### Task\n",
        "\n",
        "1. Create a reversible classical circuit that identifies a correct solution\n",
        "2. Use phase kickback and uncomputation to turn this circuit into an oracle\n",
        "3. Use Grover's algorithm to solve this oracle"
      ]
    },
    {
      "cell_type": "code",
      "execution_count": null,
      "metadata": {
        "colab": {
          "base_uri": "https://localhost:8080/",
          "height": 487
        },
        "id": "O0bbe4QlbWci",
        "outputId": "1fd16f12-3638-4df7-a728-4549cff10c42"
      },
      "outputs": [],
      "source": [
        "from qiskit import *\n",
        "from qiskit.circuit.library import MCXGate\n",
        "from qiskit_aer.aerprovider import AerSimulator\n",
        "from qiskit.visualization import plot_histogram\n",
        "import numpy as np\n",
        "\n",
        "def grover_problem_oracle(n):\n",
        "    oracle = QuantumCircuit(n)\n",
        "    oracle.x(0)\n",
        "    oracle.h(n-1)\n",
        "    oracle.append(MCXGate(n-1), list(range(n-1)) + [n-1])\n",
        "    oracle.h(n-1)\n",
        "    oracle.x(0)\n",
        "    oracle.name = \"Oracle for |1101⟩\"\n",
        "    return oracle\n",
        "\n",
        "def diffuser(n):\n",
        "    qc = QuantumCircuit(n)\n",
        "    qc.h(range(n))\n",
        "    qc.x(range(n))\n",
        "    qc.h(n - 1)\n",
        "    qc.append(MCXGate(n - 1), list(range(n - 1)) + [n - 1])\n",
        "    qc.h(n - 1)\n",
        "    qc.x(range(n))\n",
        "    qc.h(range(n))\n",
        "    return qc\n",
        "\n",
        "def grover_solver(oracle, iterations):\n",
        "    n = oracle.num_qubits\n",
        "    grover_circuit = QuantumCircuit(n)\n",
        "    grover_circuit.h(range(n))\n",
        "    for _ in range(iterations):\n",
        "        grover_circuit.append(oracle, range(n))\n",
        "        grover_circuit.append(diffuser(n), range(n))\n",
        "    grover_circuit.measure_all()\n",
        "    return grover_circuit\n",
        "\n",
        "n = 4\n",
        "oracle = grover_problem_oracle(n)\n",
        "\n",
        "iterations = 1\n",
        "\n",
        "grover_circuit = grover_solver(oracle, iterations)\n",
        "simulator = AerSimulator()\n",
        "compiled_circuit = transpile(grover_circuit, simulator)\n",
        "job = simulator.run(compiled_circuit, shots=1024)\n",
        "result = job.result()\n",
        "counts = result.get_counts(grover_circuit)\n",
        "plot_histogram(counts)\n"
      ]
    },
    {
      "cell_type": "markdown",
      "metadata": {
        "gloss": {
          "gt": {
            "text": "In math, graph theory is the study of graphs. A graph is made up of nodes or points which are connected by edges.",
            "title": "graph theory"
          }
        },
        "id": "K6orpZMKPlTf"
      },
      "source": [
        "## 4.2 The Triangle-finding Problem Using Grover <a id='tri'></a>\n",
        "\n",
        "\n",
        "One of the famous graph theory problems is the triangle-finding problem. In the triangle-finding problem, we are given a graph that may or may not contain a triangle. Our task is to find the triangle/s within the graph and point out the nodes that form the triangle. For example, the graph below is a 4-node graph with a triangle between nodes `0`,`1`, and `2`.     \n",
        "\n",
        "\n",
        "![screenshot_1743360327882.png](<https://media-hosting.imagekit.io/4cfdb235a4754c76/screenshot_1743360327882.png?Expires=1837968330&Key-Pair-Id=K2ZIVPTIP2VGHC&Signature=IY-bJJe1xyQETlo3XjT4QtBk2zGrBvZnfzHOC6HotgtXR19rigcibg4SIjBmZGnVrC4NJta~px1579077lIQ5rCxkj7-v-r22U8q0h0DPcl7vVePWfdO~5Iy2uCgl5S-dy02Wn6vC3cds4g1mdbWXSPp9u4Ou1tD0pQnXoJ7Zs71IVLScPRuvicXvbLZ-XwUSAfh9a0ttfFf9HR9rtLfHleAv8~EKp0TRPUDbsCJ88yLTAUCu5ECkygaO5XgfbyCZjgnWhb7jw~xExF7PPdNm-GDWjeEUk23IxLiuEmKSUAMN-2Bplpy2TMKnl-tk9sYPFHE~8ARgkvsNjxKq4w-vw__>)\n",
        "\n",
        "\n",
        "We can apply Grover's algorithm to this problem, we are going to give the algorithm a list of _edges_ and the number of nodes in the graph. The algorithm, then, will do the rest. It will try to check if there's a triangle in the graph or not, and if so it will mark the nodes forming that triangle.   \n",
        "\n",
        "\n",
        "Now, let's go through Grover's algorithm steps and see how can we construct each step to solve the triangle finding problem. But first, let's define our input, which is the list of edges."
      ]
    },
    {
      "cell_type": "code",
      "execution_count": null,
      "metadata": {
        "id": "raWjgossPlTf"
      },
      "outputs": [],
      "source": [
        "#Edges list\n",
        "edges =[(0, 1), (0, 2), (1, 2), (2, 3)]\n",
        "#Number of nodes\n",
        "n_nodes = 4"
      ]
    },
    {
      "cell_type": "markdown",
      "metadata": {
        "id": "CwTvWXJTPlTf",
        "variables": {
          "\\sqrt{n": "<p><strong>SyntaxError</strong>: unexpected character after line continuation character (Temp/ipykernel_26292/2644103834.py, line 1)</p>\n"
        }
      },
      "source": [
        "### 4.2.1 The state preparation\n",
        "\n",
        "To solve the problem, let's first focus on the example above, which is the case of finding a triangle in a 4-node graph. to do that, we need to go over all subgraphs within our graph and check if any of them a triangle. To do that we will need 4-qubits, each qubit represents a node in the graph. The state of the qubit will indicate whether the node in any subgraph or not. For example, in the graph above, the triangle is between nodes 0,1, and 2, we can rephrase that using the state `1110`. The nodes with state 1 are in the subgraph (triangle) and the node with state 0 is not.   \n",
        "\n",
        "For the state preparation, we will need to create a superposition of all possible states `0000`, to `1111`, which can be done simply using `4` Hadamard gates. Doing so, will we need to rotate over the oracle and diffusion `3` times.  \n",
        "But, if each `1` in the state represent an active node, we don't really need to look through the entire Hilbert space, we only need to look through the subgraphs with three nodes.    \n",
        "\n",
        "This is a good example of using another type of symmetric states to prepare the search space. Here since we only need to consider states with three 1's, we can think of another way to form our search space. One way to create a superposition over only states with three active nodes is through using the W-state followed by `4 NOT gates`. This will decrease the number of rotations needed from `3` to `1`.\n",
        "\n",
        "So, we first need to implement the W-state. W-states have the form:\n",
        "\n",
        "$$|W\\rangle = {\\frac{1}{{\\sqrt{n}}}}(|100...0\\rangle + ... + |01...0\\rangle + | 00...01\\rangle) $$\n",
        "\n",
        "We need to construct $|W_{3}\\rangle$ states."
      ]
    },
    {
      "cell_type": "code",
      "execution_count": null,
      "metadata": {
        "id": "2CabRB14PlTf"
      },
      "outputs": [],
      "source": [
        "# Iskorištena je implementacija W-stanja za stvaranje kvantne superpozicije s točno jednom jedinicom raspodijeljenom po više kubita\n",
        "\n",
        "def control_rotation(qcir, cQbit, tQbit, theta):\n",
        "    \"\"\"\n",
        "    Implementira kontroliranu rotaciju pomoću osnovnih kvantnih vrata (unitarnih i CNOT).\n",
        "\n",
        "    Argumenti:\n",
        "    - qcir: instanca QuantumCircuit.\n",
        "    - cQbit: kontrolni kubit.\n",
        "    - tQbit: ciljani kubit.\n",
        "    - theta: kut rotacije (u stupnjevima).\n",
        "\n",
        "    Povrat:\n",
        "    - modificirani QuantumCircuit s primijenjenom kontroliranom rotacijom.\n",
        "    \"\"\"\n",
        "    # Računamo transformirani kut (theta') iz theta koristeći asin(cos(theta/2))\n",
        "    theta_dash = math.asin(math.cos(math.radians(theta / 2)))\n",
        "\n",
        "    # Primjenjujemo rotaciju theta' na ciljni kubit\n",
        "    qcir.u(theta_dash, 0, 0, tQbit)\n",
        "\n",
        "    # Primjenjujemo CNOT između kontrolnog i ciljnog kubita\n",
        "    qcir.cx(cQbit, tQbit)\n",
        "\n",
        "    # Primjenjujemo obrnutu rotaciju (-theta') kako bismo završili rotaciju ovisnu o kontrolnom kubitu\n",
        "    qcir.u(-theta_dash, 0, 0, tQbit)\n",
        "\n",
        "    return qcir\n",
        "\n",
        "\n",
        "def wn(qcir, qbits):\n",
        "    \"\"\"\n",
        "    Generira W-stanje koristeći `control_rotation` funkciju.\n",
        "\n",
        "    Argumenti:\n",
        "    - qcir: instanca QuantumCircuit koja će se nadopuniti s W-stanjem.\n",
        "    - qbits: lista kvantnih kubita koji će se koristiti.\n",
        "\n",
        "    Povrat:\n",
        "    - modificirani QuantumCircuit s W-stanjem.\n",
        "    - lista korištenih kubita.\n",
        "    \"\"\"\n",
        "    for i in range(len(qbits)):\n",
        "        if i == 0:\n",
        "            # Prvi kubit postavljamo u stanje |1⟩\n",
        "            qcir.x(qbits[0])\n",
        "            qcir.barrier()\n",
        "        else:\n",
        "            # Izračun vjerojatnosti i pripadajućeg kuta rotacije za svaki sljedeći kubit\n",
        "            p = 1 / (len(qbits) - (i - 1))\n",
        "            theta = math.degrees(math.acos(math.sqrt(p)))\n",
        "            theta = 2 * theta  # Skaliramo kut jer se koristi u kontroliranoj rotaciji\n",
        "\n",
        "            # Primjenjujemo kontroliranu rotaciju i CNOT između kubita\n",
        "            qcir = control_rotation(qcir, qbits[i - 1], qbits[i], theta)\n",
        "            qcir.cx(qbits[i], qbits[i - 1])\n",
        "            qcir.barrier()\n",
        "    return qcir, qbits\n",
        "\n",
        "\n",
        "# Kreiramo registar za podcircuit (n_nodes kubita)\n",
        "sub_qbits = QuantumRegister(n_nodes)\n",
        "\n",
        "# Kreiramo kvantni podsklop za pripremu W-stanja\n",
        "sub_cir = QuantumCircuit(sub_qbits, name=\"state_prep\")\n",
        "\n",
        "# Primjenjujemo funkciju za izgradnju W-stanja\n",
        "sub_cir, sub_qbits = wn(sub_cir, sub_qbits)\n",
        "\n",
        "# Invertiramo sve kubite (X-vrata) kako bi svi bili u stanju |0⟩ osim jednog u |1⟩\n",
        "sub_cir.x(sub_qbits)\n",
        "\n",
        "# Pretvaramo kreirani podsklop u instrukciju kako bi se mogao koristiti kao jedna operacija u glavnom sklopu\n",
        "stat_prep = sub_cir.to_instruction()\n",
        "\n",
        "# Pripremamo i inverzni operator (potreban za Groverovu difuziju)\n",
        "inv_stat_prep = sub_cir.inverse().to_instruction()\n"
      ]
    },
    {
      "cell_type": "markdown",
      "metadata": {
        "id": "gE5Eeg4rPlTf"
      },
      "source": [
        "### 4.2.2 The oracle\n",
        "\n",
        "The oracle is what's gonna mark the correct answer. In these cases, the oracle needs to take every subgraph and count the number of edges in that subgraph. If the number of edges is `3`, then we have a triangle, if not, it will proceed to the next subgraph.    \n",
        "\n",
        "![screenshot_1743360390281.png](<https://media-hosting.imagekit.io/8895da6364394c52/screenshot_1743360390281.png?Expires=1837968390&Key-Pair-Id=K2ZIVPTIP2VGHC&Signature=RgxtAYxetl9m2p9khefBUjr8YiXzBalZkfsYCfO4UkzTVsBAz3jQ7bOqSwDkj4Rf1wZ1IGombn8MYDibEHzG0PeLRd1n7sH2ahc5DXjh93VHLQR6WZNY-OAZyysZQ8eukoo-qnMErjPfy-OGhQK-0xfS9Q0l42tgGYVczo~PDj~fbedoKNa8Q3cda~AGlswszCgJOJ4AQBTbel-J182H0DtHVW7ONPM4K4IdC6qX8YEx7HK2GSPDPyOxKjjIy2CJwS4pjRsfyCj~xP~JyWvcVHScLHJmnyG3L~t9W9KgIn6QC7FVrMdyNsnDaqTYAvmtAoS71UNAb~zH-FkqDbBEcw__>)\n",
        "\n",
        "For every edge in the graph, we will need one or two `CNOT` gates. These `CNOT` gates will apply to two ancillary qubits, that should be in state `11` if a triangle is found. The number of ancillary qubits here is two because a triangle has `3 edges` that is $11_{b}$. Then the final step in the oracle is to apply one more `Toffoli`, that will only be active if a triangle is found by changing the state of another qubit, let's call it, `tri_flag`, to `1`."
      ]
    },
    {
      "cell_type": "code",
      "execution_count": null,
      "metadata": {
        "id": "rBegGyp_PlTg"
      },
      "outputs": [],
      "source": [
        "from qiskit.circuit.library import MCXGate  # Uvoz višestruko kontroliranog X-gata (Toffoli gate s više ulaza)\n",
        "\n",
        "def edge_counter(qc, qubits, anc, flag_qubit, k):\n",
        "    bin_k = bin(k)[2:][::-1]\n",
        "    l = []\n",
        "    for i in range(len(bin_k)):\n",
        "        if int(bin_k[i]) == 1:\n",
        "            l.append(qubits[i])\n",
        "    # Ispravka: koristi mcx umjesto mct\n",
        "    qc.mcx(l, flag_qubit, [anc], mode='recursion')\n",
        "\n",
        "\n",
        "\n",
        "def oracle(n_nodes, edges, qc, nodes_qubits, edge_anc, ancilla, neg_base):\n",
        "    \"\"\"\n",
        "    Orakul koji identificira trokut u grafu (3 čvora međusobno spojena rubovima).\n",
        "\n",
        "    Argumenti:\n",
        "    - n_nodes: broj čvorova u grafu\n",
        "    - edges: popis rubova (svaki rub je par (i, j))\n",
        "    - qc: instanca kvantnog sklopa\n",
        "    - nodes_qubits: qubiti koji predstavljaju čvorove grafa\n",
        "    - edge_anc: pomoćni qubiti koji predstavljaju postoji li rub\n",
        "    - ancilla: pomoćni qubiti za višekontrolirane operacije\n",
        "    - neg_base: qubit koji će se postaviti u |1⟩ ako je trokut pronađen\n",
        "    \"\"\"\n",
        "    k = 3  # broj rubova u trokutu\n",
        "\n",
        "    # 1. Brojanje rubova između čvorova\n",
        "    qc.barrier()\n",
        "\n",
        "    # Inicijalno, računamo jedan rub pomoću CCX (Toffoli) gate\n",
        "    qc.ccx(nodes_qubits[edges[0][0]], nodes_qubits[edges[0][1]], edge_anc[0])\n",
        "\n",
        "    # Iteracija kroz preostale rubove, koristeći višekontrolirane X-gatove (MCXGate)\n",
        "    for i in range(1, len(edges)):\n",
        "        # Dodaj MCXGate (3 ulaza) između dva čvora i edge_anc[0], koristi edge_anc[1] kao izlaz\n",
        "        qc.append(MCXGate(3), [\n",
        "            nodes_qubits[edges[i][0]],\n",
        "            nodes_qubits[edges[i][1]],\n",
        "            edge_anc[0],\n",
        "            edge_anc[1]\n",
        "        ])\n",
        "        # Ponovno računaj trenutni rub pomoću Toffoli-gatea\n",
        "        qc.ccx(nodes_qubits[edges[i][0]], nodes_qubits[edges[i][1]], edge_anc[0])\n",
        "\n",
        "    # ----------------------------------------------------------------------------------------------------------\n",
        "    # 2. Provjera je li broj aktivnih rubova odgovarao trokutu (3 ruba)\n",
        "    edg_k = int((k / 2) * (k - 1))  # broj veza između 3 čvora (potrebno 3 ruba → 3 kombinacije od 2)\n",
        "    edge_counter(qc, edge_anc, ancilla[0], neg_base[0], edg_k)\n",
        "    # ----------------------------------------------------------------------------------------------------------\n",
        "\n",
        "    # 3. Reverzna operacija za \"uncompute\" pomoćnih qubita (da ne utječu na daljnju kvantnu evaluaciju)\n",
        "    for i in range(len(edges) - 1, 0, -1):\n",
        "        # Resetiramo edge_anc qubit dvostrukim CCX (kompenzacija ranijih operacija)\n",
        "        qc.ccx(nodes_qubits[edges[i][0]], nodes_qubits[edges[i][1]], edge_anc[0])\n",
        "        qc.ccx(nodes_qubits[edges[i][0]], nodes_qubits[edges[i][1]], edge_anc[0])\n",
        "\n",
        "        # Vraćamo stanje pomocu MCXGate koji je korišten ranije\n",
        "        qc.append(MCXGate(3), [\n",
        "            nodes_qubits[edges[i][0]],\n",
        "            nodes_qubits[edges[i][1]],\n",
        "            edge_anc[0],\n",
        "            edge_anc[1]\n",
        "        ])\n",
        "\n",
        "    # Vraćamo stanje i za prvi rub\n",
        "    qc.ccx(nodes_qubits[edges[0][0]], nodes_qubits[edges[0][1]], edge_anc[0])\n",
        "\n",
        "    qc.barrier()  # označavamo kraj orakula\n"
      ]
    },
    {
      "cell_type": "markdown",
      "metadata": {
        "id": "_owQ9kEYPlTg"
      },
      "source": [
        "### 4.2.3 The diffusion operator\n",
        "\n",
        "As we said before, the diffusion operator construction depends on the type of state preparation we used, in this case, the W-state. So, we need the inverses W-state, a multi-controlled Z gate and the original W-state to form the diffusion operator."
      ]
    },
    {
      "cell_type": "code",
      "execution_count": null,
      "metadata": {
        "id": "IzotCUFNPlTg"
      },
      "outputs": [],
      "source": [
        "def cnz(qc, num_control, node, anc):\n",
        "    \"\"\"\n",
        "    Konstruira višekontrolirani Z-gate (multi-controlled Z).\n",
        "\n",
        "    Argumenti:\n",
        "    - qc: instanca QuantumCircuit u koju se dodaju gateovi.\n",
        "    - num_control: broj kontrolnih qubita (koliko ih mora biti u |1⟩ da bi se primijenio Z-gate).\n",
        "    - node: lista qubita, prvo dolaze kontrolni, a zatim cilj (target).\n",
        "    - anc: pomoćni qubiti (ancilla), potrebni za konstrukciju ako je više od 2 kontrolna qubita.\n",
        "    \"\"\"\n",
        "\n",
        "    if num_control > 2:\n",
        "        # Koristi se rekurzivna konstrukcija višekontroliranog Z pomoću CCX i jednog CZ\n",
        "\n",
        "        # 1. Kombiniraj prve dvije kontrole u prvi pomoćni qubit\n",
        "        qc.ccx(node[0], node[1], anc[0])\n",
        "\n",
        "        # 2. Iterativno dodaj preostale kontrole koristeći lanac CCX gateova i ancilla qubita\n",
        "        for i in range(num_control - 2):\n",
        "            qc.ccx(node[i+2], anc[i], anc[i+1])\n",
        "\n",
        "        # 3. Primijeni CZ između zadnjeg ancilla i ciljnog qubita (npr. node[num_control])\n",
        "        qc.cz(anc[num_control - 2], node[num_control])\n",
        "\n",
        "        # 4. \"Uncompute\" (resetiraj) ancilla qubite obrnutim redoslijedom\n",
        "        for i in reversed(range(num_control - 2)):\n",
        "            qc.ccx(node[i+2], anc[i], anc[i+1])\n",
        "\n",
        "        # 5. Resetiraj i prvi ancilla qubit\n",
        "        qc.ccx(node[0], node[1], anc[0])\n",
        "\n",
        "    elif num_control == 2:\n",
        "        # Ako su samo 2 kontrolna qubita, koristimo H-CCX-H trik za implementaciju CZ\n",
        "        # Ovo radi jer: H • CCX • H = CCZ (kontrolirani-Z)\n",
        "        qc.h(node[2])                   # Pretvori Z-bazu u X-bazu\n",
        "        qc.ccx(node[0], node[1], node[2])  # Toffoli\n",
        "        qc.h(node[2])                   # Vrati u Z-bazu\n",
        "\n",
        "    elif num_control == 1:\n",
        "        # Ako postoji samo 1 kontrolni qubit, samo se primjenjuje CZ između kontrolnog i ciljnog\n",
        "        qc.cz(node[0], node[1])"
      ]
    },
    {
      "cell_type": "code",
      "execution_count": null,
      "metadata": {
        "id": "IMMAOCQFPlTg"
      },
      "outputs": [],
      "source": [
        "def grover_diff(qc, nodes_qubits, edge_anc, ancilla, stat_prep, inv_stat_prep):\n",
        "    \"\"\"\n",
        "    Implementacija Groverove difuzije (tzv. \"inversion about the mean\").\n",
        "\n",
        "    Argumenti:\n",
        "    - qc: instanca kvantnog sklopa.\n",
        "    - nodes_qubits: lista qubita koji predstavljaju varijable pretraživanja.\n",
        "    - edge_anc: pomoćni qubiti (ovdje se ne koriste, ali se mogu koristiti u proširenjima).\n",
        "    - ancilla: pomoćni (ancilla) qubiti potrebni za višekontrolirani Z.\n",
        "    - stat_prep: instrukcija za pripremu početnog stanja (npr. W-stanje).\n",
        "    - inv_stat_prep: inverzna verzija stat_prep instrukcije.\n",
        "    \"\"\"\n",
        "\n",
        "    # 1. Primijeni inverznu pripremu stanja\n",
        "    # Ovo \"poništava\" početnu superpoziciju i vraća stanje bliže |0⟩^n\n",
        "    qc.append(inv_stat_prep, qargs=nodes_qubits)\n",
        "\n",
        "    # 2. Primijeni X-vrata na sve qubite\n",
        "    # Mijenja bazu radi refleksije oko stanja |s⟩ (sve jedinice)\n",
        "    qc.x(nodes_qubits)\n",
        "\n",
        "    # ================== VIŠEKONTROLIRANI Z ==================\n",
        "    # 3. Primijeni Z-gate s više kontrola\n",
        "    # Refleksija oko nultog stanja |0⟩^n — jezgra Groverove difuzije\n",
        "    cnz(qc, len(nodes_qubits) - 1, nodes_qubits[::-1], ancilla)\n",
        "    # ========================================================\n",
        "\n",
        "    # 4. Vraćanje u početnu bazu s još jednom serijom X-vrata\n",
        "    qc.x(nodes_qubits)\n",
        "\n",
        "    # 5. Ponovno primijeni pripremu stanja\n",
        "    # Tako vraćamo stanje u superpoziciju, ali sada s pojačanim amplitudama rješenja\n",
        "    qc.append(stat_prep, qargs=nodes_qubits)"
      ]
    },
    {
      "cell_type": "markdown",
      "metadata": {
        "id": "xR-N8VCrPlTg"
      },
      "source": [
        "### 4.2.4 Putting it all together\n",
        "\n",
        "Now that we have all the components of the algorithm built and running, we can put them together."
      ]
    },
    {
      "cell_type": "code",
      "execution_count": null,
      "metadata": {
        "id": "ns12RcGLqZCl"
      },
      "outputs": [],
      "source": [
        "# Funkcija koja konstruira Groverov kvantni algoritam za traženje trokuta u grafu\n",
        "def grover(n_nodes, stat_prep, inv_stat_prep):\n",
        "    \"\"\"\n",
        "    Groverov algoritam za pretragu podskupova čvorova koji čine trokut u grafu.\n",
        "\n",
        "    Argumenti:\n",
        "    - n_nodes: broj čvorova u grafu.\n",
        "    - stat_prep: instrukcija za pripremu početnog stanja (npr. W-stanje).\n",
        "    - inv_stat_prep: inverzna verzija stat_prep instrukcije.\n",
        "\n",
        "    Povrat:\n",
        "    - QuantumCircuit instanca s cijelom Groverovom logikom.\n",
        "    \"\"\"\n",
        "\n",
        "    # N = ukupan broj mogućih kombinacija 3 čvora (nCr) — jer tražimo trokute\n",
        "    N = math.comb(n_nodes, 3)\n",
        "\n",
        "    # --- DEFINICIJA REGISTARA ---\n",
        "    nodes_qubits = QuantumRegister(n_nodes, name='nodes')         # qubiti koji predstavljaju čvorove\n",
        "    edge_anc = QuantumRegister(2, name='edge_anc')                # pomoćni qubiti za provjeru rubova\n",
        "    ancilla = QuantumRegister(n_nodes-2, name='cccx_diff_anc')    # pomoćni qubiti za višekontrolirane gateove\n",
        "    neg_base = QuantumRegister(1, name='check_qubits')            # qubit koji signalizira da je trokut pronađen\n",
        "    class_bits = ClassicalRegister(n_nodes, name='class_reg')     # klasični registri za mjerenje rezultata\n",
        "    tri_flag = ClassicalRegister(3, name='tri_flag')              # dodatni klasični registri (nije obavezno korišteno)\n",
        "\n",
        "    # Inicijalizacija kvantnog sklopa\n",
        "    qc = QuantumCircuit(nodes_qubits, edge_anc, ancilla, neg_base, class_bits, tri_flag)\n",
        "\n",
        "    # Inicijalizacija qubita koji će signalizirati rješenje u stanje |−⟩ = H•X|0⟩\n",
        "    qc.x(neg_base[0])\n",
        "    qc.h(neg_base[0])\n",
        "\n",
        "    # Priprema početnog stanja (npr. W-stanje)\n",
        "    qc.append(stat_prep, qargs=nodes_qubits)\n",
        "    qc.barrier()\n",
        "\n",
        "    # Izračun optimalnog broja iteracija Groverovog operatora\n",
        "    iterations = math.floor(math.pi / 4 * math.sqrt(N))\n",
        "\n",
        "    # Glavna petlja: primjena Groverovih iteracija\n",
        "    for i in np.arange(iterations):\n",
        "        qc.barrier()\n",
        "        # Primjena orakula koji označava rješenja (čvorove koji čine trokut)\n",
        "        oracle(n_nodes, edges, qc, nodes_qubits, edge_anc, ancilla, neg_base)\n",
        "        qc.barrier()\n",
        "        # Difuzija: refleksija oko prosjeka kako bi se pojačale amplitude rješenja\n",
        "        grover_diff(qc, nodes_qubits, edge_anc, ancilla, stat_prep, inv_stat_prep)\n",
        "\n",
        "    # Mjerenje čvorova u klasične bitove — vraćamo rješenja trokuta\n",
        "    qc.measure(nodes_qubits, class_bits)\n",
        "\n",
        "    return qc"
      ]
    },
    {
      "cell_type": "markdown",
      "metadata": {
        "id": "tDK9OLcLPlTg"
      },
      "source": [
        "Now, let's run the code and plot the histogram to see if our algorithm works as expected."
      ]
    },
    {
      "cell_type": "code",
      "execution_count": null,
      "metadata": {
        "colab": {
          "base_uri": "https://localhost:8080/",
          "height": 898
        },
        "id": "eiQVgICeZAc9",
        "outputId": "e2c2ea14-282f-4101-e0dc-87d7bd0b9f11"
      },
      "outputs": [],
      "source": [
        "qc = grover(n_nodes, stat_prep, inv_stat_prep)\n",
        "# Draw circuit\n",
        "qc.draw('mpl')"
      ]
    },
    {
      "cell_type": "code",
      "execution_count": null,
      "metadata": {
        "colab": {
          "base_uri": "https://localhost:8080/",
          "height": 487
        },
        "id": "tft54uKQPlTh",
        "outputId": "9b561c86-0b69-40be-d656-33bc38a1b658"
      },
      "outputs": [],
      "source": [
        "from qiskit.visualization import plot_histogram\n",
        "from qiskit_aer import AerSimulator\n",
        "from qiskit import transpile\n",
        "\n",
        "# Priprema simulatora\n",
        "qasm_simulator = AerSimulator()\n",
        "\n",
        "# Transpilacija kvantnog sklopa za simulator\n",
        "transpiled_qc = transpile(qc, qasm_simulator)\n",
        "\n",
        "# Izvršavanje kvantnog sklopa\n",
        "result = qasm_simulator.run(transpiled_qc, shots=1024).result()\n",
        "\n",
        "# Dohvat rezultata mjerenja\n",
        "counts = result.get_counts()\n",
        "\n",
        "# Prikaz histograma\n",
        "plot_histogram(counts)"
      ]
    },
    {
      "cell_type": "markdown",
      "metadata": {
        "id": "zbGj98t8wkLK"
      },
      "source": [
        "### Task : Triangle Detection in a Quantum Graph Using Grover's Algorithm\n",
        "\n",
        "Imagine an undirected graph represented using quantum qubits, where each node can be \"activated\" (i.e., included in a potential solution). The goal is to find all combinations of 3 nodes that form a triangle — a set of 3 nodes with 3 mutual edges.\n",
        "\n",
        "Using Grover's algorithm implemented in Qiskit, your job is to:\n",
        "\n",
        "1. Prepare a W-state to initialize the superposition over all combinations of 3 nodes.\n",
        "2. Define an oracle that marks states which represent triangles.\n",
        "3. Implement Grover's diffusion operator.\n",
        "4. Run a quantum simulation and analyze the measurement results.\n",
        "\n",
        "Complete the implementation of a quantum algorithm that finds triangles in the following graph with 5 nodes and edges:\n",
        "\n",
        "edges = [(0, 1), (1, 2), (2, 0), (3, 4)]\n",
        "\n",
        "This graph contains one triangle (0–1–2) and one isolated edge (3–4).\n",
        "\n",
        "For successful compliting this task you should:\n",
        "1. Implement the oracle(...) function that checks whether a selected node combination forms a triangle.\n",
        "2. Build the grover(...) function using: A W-state as the initial superposition, your oracle function, Grover's diffusion operator with a multi-controlled Z-gate.\n",
        "3. Simulate the quantum circuit and plot the measurement histogram.\n",
        "4. Identify the most probable solution from the histogram and interpret it as a set of graph nodes."
      ]
    },
    {
      "cell_type": "code",
      "execution_count": null,
      "metadata": {
        "colab": {
          "base_uri": "https://localhost:8080/",
          "height": 1000
        },
        "id": "fs0iNi5OgFbz",
        "outputId": "8e02bdc3-c186-4dd2-d05c-15bb8eed1512"
      },
      "outputs": [],
      "source": [
        "import numpy as np\n",
        "from qiskit import QuantumCircuit\n",
        "from qiskit_aer import Aer\n",
        "from qiskit.visualization import plot_histogram\n",
        "import matplotlib.pyplot as plt\n",
        "from qiskit_aer import AerSimulator\n",
        "from qiskit.circuit.library import MCXGate\n",
        "from itertools import combinations\n",
        "\n",
        "edges = [(0, 1), (1, 2), (2, 0), (3, 4)]\n",
        "num_nodes = 5\n",
        "\n",
        "def is_triangle(nodes):\n",
        "    if len(nodes) != 3:\n",
        "        return False\n",
        "\n",
        "    return all(\n",
        "        (nodes[i], nodes[j]) in edges or (nodes[j], nodes[i]) in edges\n",
        "        for i, j in [(0, 1), (1, 2), (0, 2)]\n",
        "    )\n",
        "\n",
        "def initialize_w_state(circuit, qubits):\n",
        "    n = len(qubits)\n",
        "\n",
        "    valid_combinations = list(combinations(range(n), 3))\n",
        "    num_combinations = len(valid_combinations)\n",
        "\n",
        "    for combo in valid_combinations:\n",
        "        basis_state = ['0'] * n\n",
        "        for pos in combo:\n",
        "            basis_state[pos] = '1'\n",
        "        basis_state = ''.join(basis_state)\n",
        "\n",
        "        circuit.x([qubits[i] for i in combo])\n",
        "        circuit.barrier()\n",
        "\n",
        "        if combo != valid_combinations[-1]:\n",
        "            circuit.h(qubits[0])\n",
        "            circuit.barrier()\n",
        "            circuit.x([qubits[i] for i in combo])\n",
        "            circuit.barrier()\n",
        "\n",
        "def oracle(circuit, qubits, ancilla):\n",
        "    for combo in combinations(range(num_nodes), 3):\n",
        "        if is_triangle(combo):\n",
        "            for i in range(num_nodes):\n",
        "                if i not in combo:\n",
        "                    circuit.x(qubits[i])\n",
        "\n",
        "            circuit.h(ancilla)\n",
        "            circuit.mcx(qubits, ancilla)\n",
        "            circuit.h(ancilla)\n",
        "\n",
        "            for i in range(num_nodes):\n",
        "                if i not in combo:\n",
        "                    circuit.x(qubits[i])\n",
        "\n",
        "            circuit.barrier()\n",
        "\n",
        "def diffusion_operator(circuit, qubits):\n",
        "    for qubit in qubits:\n",
        "        circuit.h(qubit)\n",
        "\n",
        "    for qubit in qubits:\n",
        "        circuit.x(qubit)\n",
        "\n",
        "    circuit.h(qubits[-1])\n",
        "\n",
        "    circuit.mcx(qubits[:-1], qubits[-1])\n",
        "\n",
        "    circuit.h(qubits[-1])\n",
        "\n",
        "    for qubit in qubits:\n",
        "        circuit.x(qubit)\n",
        "\n",
        "    for qubit in qubits:\n",
        "        circuit.h(qubit)\n",
        "\n",
        "def grover(num_nodes):\n",
        "    qubits = list(range(num_nodes))\n",
        "    ancilla = num_nodes\n",
        "    qc = QuantumCircuit(num_nodes + 1, num_nodes)\n",
        "\n",
        "    initialize_w_state(qc, qubits)\n",
        "    qc.barrier()\n",
        "    num_iterations = 2\n",
        "\n",
        "    for _ in range(num_iterations):\n",
        "        oracle(qc, qubits, ancilla)\n",
        "        qc.barrier()\n",
        "        diffusion_operator(qc, qubits)\n",
        "        qc.barrier()\n",
        "\n",
        "    qc.measure(qubits, range(num_nodes))\n",
        "\n",
        "    return qc\n",
        "\n",
        "circuit = grover(num_nodes)\n",
        "\n",
        "simulator = Aer.get_backend('statevector_simulator')\n",
        "job = simulator.run(circuit)\n",
        "result = job.result()\n",
        "statevector = result.get_statevector()\n",
        "\n",
        "counts = {}\n",
        "for i, amplitude in enumerate(statevector):\n",
        "    if abs(amplitude) > 1e-6:\n",
        "        bitstring = format(i, f'0{num_nodes}b')\n",
        "        bitstring = bitstring[-num_nodes:]\n",
        "        counts[bitstring] = abs(amplitude)**2\n",
        "\n",
        "total = sum(counts.values())\n",
        "for key in counts:\n",
        "    counts[key] /= total\n",
        "\n",
        "plt.figure(figsize=(12, 6))\n",
        "sorted_counts = dict(sorted(counts.items(), key=lambda x: x[1], reverse=True))\n",
        "plt.bar(sorted_counts.keys(), sorted_counts.values())\n",
        "plt.xlabel('Measured State')\n",
        "plt.ylabel('Probability')\n",
        "plt.title('Probability Distribution of Measured States')\n",
        "plt.xticks(rotation=45)\n",
        "plt.tight_layout()\n",
        "\n",
        "print(\"Measured states with highest probabilities:\")\n",
        "for state, prob in sorted_counts.items():\n",
        "    nodes = [i for i, bit in enumerate(state) if bit == '1']\n",
        "    if len(nodes) == 3:\n",
        "        is_tri = is_triangle(nodes)\n",
        "        print(f\"State {state}: Nodes {nodes}, Probability {prob:.4f}, Is Triangle: {is_tri}\")\n",
        "\n",
        "most_probable = max(counts, key=counts.get)\n",
        "selected_nodes = [i for i, bit in enumerate(most_probable) if bit == '1']\n",
        "print(f\"\\nMost probable solution: {most_probable}, Nodes: {selected_nodes}\")\n",
        "if len(selected_nodes) == 3 and is_triangle(selected_nodes):\n",
        "    print(f\"This is a triangle! Nodes {selected_nodes} form a triangle in the graph.\")\n",
        "else:\n",
        "    print(f\"This is NOT a triangle in the graph.\")\n",
        "\n",
        "qc_sim = grover(num_nodes)\n",
        "simulator = Aer.get_backend('qasm_simulator')\n",
        "job = simulator.run(qc_sim, shots=1024)\n",
        "result = job.result()\n",
        "counts = result.get_counts()\n",
        "\n",
        "plot_histogram(counts)"
      ]
    }
  ],
  "metadata": {
    "colab": {
      "provenance": [],
      "toc_visible": true
    },
    "kernelspec": {
      "display_name": "Python 3",
      "language": "python",
      "name": "python3"
    },
    "language_info": {
      "name": "python",
      "version": "3.10.5"
    }
  },
  "nbformat": 4,
  "nbformat_minor": 0
}
